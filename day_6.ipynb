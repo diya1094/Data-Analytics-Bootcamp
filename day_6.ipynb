{
 "cells": [
  {
   "cell_type": "code",
   "execution_count": 108,
   "id": "8321aa7a-1635-4dbc-b5d7-6826d42c29f1",
   "metadata": {},
   "outputs": [
    {
     "name": "stdout",
     "output_type": "stream",
     "text": [
      "Requirement already satisfied: pandas in c:\\users\\asus\\anaconda3\\lib\\site-packages (2.1.4)\n",
      "Requirement already satisfied: numpy<2,>=1.23.2 in c:\\users\\asus\\anaconda3\\lib\\site-packages (from pandas) (1.26.4)\n",
      "Requirement already satisfied: python-dateutil>=2.8.2 in c:\\users\\asus\\anaconda3\\lib\\site-packages (from pandas) (2.8.2)\n",
      "Requirement already satisfied: pytz>=2020.1 in c:\\users\\asus\\anaconda3\\lib\\site-packages (from pandas) (2023.3.post1)\n",
      "Requirement already satisfied: tzdata>=2022.1 in c:\\users\\asus\\anaconda3\\lib\\site-packages (from pandas) (2023.3)\n",
      "Requirement already satisfied: six>=1.5 in c:\\users\\asus\\anaconda3\\lib\\site-packages (from python-dateutil>=2.8.2->pandas) (1.16.0)\n",
      "Note: you may need to restart the kernel to use updated packages.\n"
     ]
    }
   ],
   "source": [
    "pip install pandas"
   ]
  },
  {
   "cell_type": "code",
   "execution_count": 109,
   "id": "204c14a9-55c8-4899-aa61-96597590c64f",
   "metadata": {},
   "outputs": [],
   "source": [
    "import pandas as pd"
   ]
  },
  {
   "cell_type": "code",
   "execution_count": 110,
   "id": "75e80ede-40f6-4970-8fae-313b091cfab6",
   "metadata": {},
   "outputs": [
    {
     "data": {
      "text/plain": [
       "'C:\\\\Users\\\\ASUS\\\\Desktop\\\\Data Analytics Bootcamp\\\\Day 6'"
      ]
     },
     "execution_count": 110,
     "metadata": {},
     "output_type": "execute_result"
    }
   ],
   "source": [
    "import os\n",
    "os.getcwd()"
   ]
  },
  {
   "cell_type": "code",
   "execution_count": 111,
   "id": "0cf2f593-bb35-4c6c-826e-396c4f5218e5",
   "metadata": {},
   "outputs": [],
   "source": [
    "os.chdir(r\"C:\\Users\\ASUS\\Desktop\\Data Analytics Bootcamp\\Day 6\")"
   ]
  },
  {
   "cell_type": "code",
   "execution_count": 112,
   "id": "6d8ceb4b-e171-4231-8e9e-e119f240d0a9",
   "metadata": {},
   "outputs": [],
   "source": [
    "donors_data = pd.read_excel(r\"donors_data.xlsx\")"
   ]
  },
  {
   "cell_type": "code",
   "execution_count": 113,
   "id": "6cbf4a45-6b7f-44c4-a74d-2c5e498729fe",
   "metadata": {},
   "outputs": [],
   "source": [
    "receiver_data = pd.read_excel(r\"redemption_data.xlsx\")"
   ]
  },
  {
   "cell_type": "code",
   "execution_count": 114,
   "id": "93dc5945-aace-4611-b831-1bdbf4d676e5",
   "metadata": {},
   "outputs": [
    {
     "data": {
      "text/html": [
       "<div>\n",
       "<style scoped>\n",
       "    .dataframe tbody tr th:only-of-type {\n",
       "        vertical-align: middle;\n",
       "    }\n",
       "\n",
       "    .dataframe tbody tr th {\n",
       "        vertical-align: top;\n",
       "    }\n",
       "\n",
       "    .dataframe thead th {\n",
       "        text-align: right;\n",
       "    }\n",
       "</style>\n",
       "<table border=\"1\" class=\"dataframe\">\n",
       "  <thead>\n",
       "    <tr style=\"text-align: right;\">\n",
       "      <th></th>\n",
       "      <th>Sr No.</th>\n",
       "      <th>Reference No  (URN)</th>\n",
       "      <th>Journal Date</th>\n",
       "      <th>Date of\\nPurchase</th>\n",
       "      <th>Date of Expiry</th>\n",
       "      <th>Name of the Purchaser</th>\n",
       "      <th>Prefix</th>\n",
       "      <th>Bond\\nNumber</th>\n",
       "      <th>Denominations</th>\n",
       "      <th>Issue Branch Code</th>\n",
       "      <th>Issue Teller</th>\n",
       "      <th>Status</th>\n",
       "    </tr>\n",
       "  </thead>\n",
       "  <tbody>\n",
       "    <tr>\n",
       "      <th>0</th>\n",
       "      <td>1</td>\n",
       "      <td>00001201904120000001166</td>\n",
       "      <td>2019-04-12</td>\n",
       "      <td>2019-04-12</td>\n",
       "      <td>2019-04-26</td>\n",
       "      <td>A B C INDIA LIMITED</td>\n",
       "      <td>TL</td>\n",
       "      <td>11448</td>\n",
       "      <td>1000000</td>\n",
       "      <td>1</td>\n",
       "      <td>5899230</td>\n",
       "      <td>Paid</td>\n",
       "    </tr>\n",
       "    <tr>\n",
       "      <th>1</th>\n",
       "      <td>2</td>\n",
       "      <td>00001201904120000001166</td>\n",
       "      <td>2019-04-12</td>\n",
       "      <td>2019-04-12</td>\n",
       "      <td>2019-04-26</td>\n",
       "      <td>A B C INDIA LIMITED</td>\n",
       "      <td>TL</td>\n",
       "      <td>11447</td>\n",
       "      <td>1000000</td>\n",
       "      <td>1</td>\n",
       "      <td>5899230</td>\n",
       "      <td>Paid</td>\n",
       "    </tr>\n",
       "    <tr>\n",
       "      <th>2</th>\n",
       "      <td>3</td>\n",
       "      <td>00001201904120000001166</td>\n",
       "      <td>2019-04-12</td>\n",
       "      <td>2019-04-12</td>\n",
       "      <td>2019-04-26</td>\n",
       "      <td>A B C INDIA LIMITED</td>\n",
       "      <td>TL</td>\n",
       "      <td>11441</td>\n",
       "      <td>1000000</td>\n",
       "      <td>1</td>\n",
       "      <td>5899230</td>\n",
       "      <td>Paid</td>\n",
       "    </tr>\n",
       "    <tr>\n",
       "      <th>3</th>\n",
       "      <td>4</td>\n",
       "      <td>00001201904120000001166</td>\n",
       "      <td>2019-04-12</td>\n",
       "      <td>2019-04-12</td>\n",
       "      <td>2019-04-26</td>\n",
       "      <td>A B C INDIA LIMITED</td>\n",
       "      <td>OL</td>\n",
       "      <td>1113</td>\n",
       "      <td>100000</td>\n",
       "      <td>1</td>\n",
       "      <td>5899230</td>\n",
       "      <td>Paid</td>\n",
       "    </tr>\n",
       "    <tr>\n",
       "      <th>4</th>\n",
       "      <td>5</td>\n",
       "      <td>00001201904120000001166</td>\n",
       "      <td>2019-04-12</td>\n",
       "      <td>2019-04-12</td>\n",
       "      <td>2019-04-26</td>\n",
       "      <td>A B C INDIA LIMITED</td>\n",
       "      <td>OL</td>\n",
       "      <td>1118</td>\n",
       "      <td>100000</td>\n",
       "      <td>1</td>\n",
       "      <td>5899230</td>\n",
       "      <td>Paid</td>\n",
       "    </tr>\n",
       "  </tbody>\n",
       "</table>\n",
       "</div>"
      ],
      "text/plain": [
       "   Sr No.      Reference No  (URN) Journal Date Date of\\nPurchase  \\\n",
       "0       1  00001201904120000001166   2019-04-12        2019-04-12   \n",
       "1       2  00001201904120000001166   2019-04-12        2019-04-12   \n",
       "2       3  00001201904120000001166   2019-04-12        2019-04-12   \n",
       "3       4  00001201904120000001166   2019-04-12        2019-04-12   \n",
       "4       5  00001201904120000001166   2019-04-12        2019-04-12   \n",
       "\n",
       "  Date of Expiry Name of the Purchaser Prefix  Bond\\nNumber  Denominations  \\\n",
       "0     2019-04-26   A B C INDIA LIMITED     TL         11448        1000000   \n",
       "1     2019-04-26   A B C INDIA LIMITED     TL         11447        1000000   \n",
       "2     2019-04-26   A B C INDIA LIMITED     TL         11441        1000000   \n",
       "3     2019-04-26   A B C INDIA LIMITED     OL          1113         100000   \n",
       "4     2019-04-26   A B C INDIA LIMITED     OL          1118         100000   \n",
       "\n",
       "   Issue Branch Code  Issue Teller Status  \n",
       "0                  1       5899230   Paid  \n",
       "1                  1       5899230   Paid  \n",
       "2                  1       5899230   Paid  \n",
       "3                  1       5899230   Paid  \n",
       "4                  1       5899230   Paid  "
      ]
     },
     "execution_count": 114,
     "metadata": {},
     "output_type": "execute_result"
    }
   ],
   "source": [
    "donors_data.head()"
   ]
  },
  {
   "cell_type": "code",
   "execution_count": 115,
   "id": "877dfcd0-9b18-4814-95f1-fa06b37388fd",
   "metadata": {},
   "outputs": [
    {
     "data": {
      "text/html": [
       "<div>\n",
       "<style scoped>\n",
       "    .dataframe tbody tr th:only-of-type {\n",
       "        vertical-align: middle;\n",
       "    }\n",
       "\n",
       "    .dataframe tbody tr th {\n",
       "        vertical-align: top;\n",
       "    }\n",
       "\n",
       "    .dataframe thead th {\n",
       "        text-align: right;\n",
       "    }\n",
       "</style>\n",
       "<table border=\"1\" class=\"dataframe\">\n",
       "  <thead>\n",
       "    <tr style=\"text-align: right;\">\n",
       "      <th></th>\n",
       "      <th>Sr No.</th>\n",
       "      <th>Date of\\nEncashment</th>\n",
       "      <th>Name of the Political Party</th>\n",
       "      <th>Account no. of\\nPolitical Party</th>\n",
       "      <th>Prefix</th>\n",
       "      <th>Bond\\nNumber</th>\n",
       "      <th>Denominations</th>\n",
       "      <th>Pay Branch\\nCode</th>\n",
       "      <th>Pay Teller</th>\n",
       "    </tr>\n",
       "  </thead>\n",
       "  <tbody>\n",
       "    <tr>\n",
       "      <th>0</th>\n",
       "      <td>1</td>\n",
       "      <td>2019-04-12</td>\n",
       "      <td>ALL INDIA ANNA DRAVIDA MUNNETRA KAZHAGAM</td>\n",
       "      <td>*******5199</td>\n",
       "      <td>OC</td>\n",
       "      <td>775</td>\n",
       "      <td>10000000</td>\n",
       "      <td>800</td>\n",
       "      <td>2770121</td>\n",
       "    </tr>\n",
       "    <tr>\n",
       "      <th>1</th>\n",
       "      <td>2</td>\n",
       "      <td>2019-04-12</td>\n",
       "      <td>ALL INDIA ANNA DRAVIDA MUNNETRA KAZHAGAM</td>\n",
       "      <td>*******5199</td>\n",
       "      <td>OC</td>\n",
       "      <td>3975</td>\n",
       "      <td>10000000</td>\n",
       "      <td>800</td>\n",
       "      <td>2770121</td>\n",
       "    </tr>\n",
       "    <tr>\n",
       "      <th>2</th>\n",
       "      <td>3</td>\n",
       "      <td>2019-04-12</td>\n",
       "      <td>ALL INDIA ANNA DRAVIDA MUNNETRA KAZHAGAM</td>\n",
       "      <td>*******5199</td>\n",
       "      <td>OC</td>\n",
       "      <td>3967</td>\n",
       "      <td>10000000</td>\n",
       "      <td>800</td>\n",
       "      <td>2770121</td>\n",
       "    </tr>\n",
       "    <tr>\n",
       "      <th>3</th>\n",
       "      <td>4</td>\n",
       "      <td>2019-04-12</td>\n",
       "      <td>ALL INDIA ANNA DRAVIDA MUNNETRA KAZHAGAM</td>\n",
       "      <td>*******5199</td>\n",
       "      <td>TL</td>\n",
       "      <td>10418</td>\n",
       "      <td>1000000</td>\n",
       "      <td>800</td>\n",
       "      <td>2770121</td>\n",
       "    </tr>\n",
       "    <tr>\n",
       "      <th>4</th>\n",
       "      <td>5</td>\n",
       "      <td>2019-04-12</td>\n",
       "      <td>ALL INDIA ANNA DRAVIDA MUNNETRA KAZHAGAM</td>\n",
       "      <td>*******5199</td>\n",
       "      <td>TL</td>\n",
       "      <td>126</td>\n",
       "      <td>1000000</td>\n",
       "      <td>800</td>\n",
       "      <td>2770121</td>\n",
       "    </tr>\n",
       "  </tbody>\n",
       "</table>\n",
       "</div>"
      ],
      "text/plain": [
       "   Sr No. Date of\\nEncashment               Name of the Political Party  \\\n",
       "0       1          2019-04-12  ALL INDIA ANNA DRAVIDA MUNNETRA KAZHAGAM   \n",
       "1       2          2019-04-12  ALL INDIA ANNA DRAVIDA MUNNETRA KAZHAGAM   \n",
       "2       3          2019-04-12  ALL INDIA ANNA DRAVIDA MUNNETRA KAZHAGAM   \n",
       "3       4          2019-04-12  ALL INDIA ANNA DRAVIDA MUNNETRA KAZHAGAM   \n",
       "4       5          2019-04-12  ALL INDIA ANNA DRAVIDA MUNNETRA KAZHAGAM   \n",
       "\n",
       "  Account no. of\\nPolitical Party Prefix  Bond\\nNumber  Denominations  \\\n",
       "0                     *******5199     OC           775       10000000   \n",
       "1                     *******5199     OC          3975       10000000   \n",
       "2                     *******5199     OC          3967       10000000   \n",
       "3                     *******5199     TL         10418        1000000   \n",
       "4                     *******5199     TL           126        1000000   \n",
       "\n",
       "   Pay Branch\\nCode  Pay Teller  \n",
       "0               800     2770121  \n",
       "1               800     2770121  \n",
       "2               800     2770121  \n",
       "3               800     2770121  \n",
       "4               800     2770121  "
      ]
     },
     "execution_count": 115,
     "metadata": {},
     "output_type": "execute_result"
    }
   ],
   "source": [
    "receiver_data.head()"
   ]
  },
  {
   "cell_type": "code",
   "execution_count": 116,
   "id": "9e82a100-2d69-4b9a-81e5-286e13f9720d",
   "metadata": {},
   "outputs": [
    {
     "data": {
      "text/plain": [
       "Index(['Sr No.', 'Reference No  (URN)', 'Journal Date', 'Date of\\nPurchase',\n",
       "       'Date of Expiry', 'Name of the Purchaser', 'Prefix', 'Bond\\nNumber',\n",
       "       'Denominations', 'Issue Branch Code', 'Issue Teller', 'Status'],\n",
       "      dtype='object')"
      ]
     },
     "execution_count": 116,
     "metadata": {},
     "output_type": "execute_result"
    }
   ],
   "source": [
    "donors_data.columns"
   ]
  },
  {
   "cell_type": "code",
   "execution_count": 117,
   "id": "7b676d91-ea01-4118-9d68-9006eb110c31",
   "metadata": {},
   "outputs": [],
   "source": [
    "donors_data.rename(columns={'Reference No  (URN)':'ref_no','Date of\\nPurchase':'purchase_date','Bond\\nNumber':'bond_no','Denominations':'bond_amount'},inplace=True)"
   ]
  },
  {
   "cell_type": "code",
   "execution_count": 118,
   "id": "bedeeff9-0e59-4437-8d71-0622926321c3",
   "metadata": {},
   "outputs": [
    {
     "data": {
      "text/plain": [
       "Index(['Sr No.', 'ref_no', 'Journal Date', 'purchase_date', 'Date of Expiry',\n",
       "       'Name of the Purchaser', 'Prefix', 'bond_no', 'bond_amount',\n",
       "       'Issue Branch Code', 'Issue Teller', 'Status'],\n",
       "      dtype='object')"
      ]
     },
     "execution_count": 118,
     "metadata": {},
     "output_type": "execute_result"
    }
   ],
   "source": [
    "donors_data.columns"
   ]
  },
  {
   "cell_type": "code",
   "execution_count": 119,
   "id": "2f924975-c646-4fc4-b2c3-5a0fcfbf30a2",
   "metadata": {},
   "outputs": [],
   "source": [
    "#another way to assign the column names\n",
    "#donors_data.column['name_1','name_2',....]"
   ]
  },
  {
   "cell_type": "code",
   "execution_count": 120,
   "id": "d97388a5-b77a-4a32-9602-9d775d507d0a",
   "metadata": {},
   "outputs": [
    {
     "data": {
      "text/plain": [
       "Index(['Sr No.', 'Date of\\nEncashment', 'Name of the Political Party',\n",
       "       'Account no. of\\nPolitical Party', 'Prefix', 'Bond\\nNumber',\n",
       "       'Denominations', 'Pay Branch\\nCode', 'Pay Teller'],\n",
       "      dtype='object')"
      ]
     },
     "execution_count": 120,
     "metadata": {},
     "output_type": "execute_result"
    }
   ],
   "source": [
    "receiver_data.columns"
   ]
  },
  {
   "cell_type": "code",
   "execution_count": 121,
   "id": "5a00a7bf-a422-4ede-a2fb-767111e2d771",
   "metadata": {},
   "outputs": [],
   "source": [
    "receiver_data.rename(columns={'Bond\\nNumber':'bond_no','Date of\\nEncashment':'enchash_date','Pay Branch\\nCode':'branch_code'},inplace=True)"
   ]
  },
  {
   "cell_type": "code",
   "execution_count": 122,
   "id": "329e09e5-a52e-4fa1-8127-afc600714e8a",
   "metadata": {},
   "outputs": [
    {
     "data": {
      "text/plain": [
       "Index(['Sr No.', 'enchash_date', 'Name of the Political Party',\n",
       "       'Account no. of\\nPolitical Party', 'Prefix', 'bond_no', 'Denominations',\n",
       "       'branch_code', 'Pay Teller'],\n",
       "      dtype='object')"
      ]
     },
     "execution_count": 122,
     "metadata": {},
     "output_type": "execute_result"
    }
   ],
   "source": [
    "receiver_data.columns"
   ]
  },
  {
   "cell_type": "code",
   "execution_count": 123,
   "id": "4a701ce8-69cd-40a4-990d-c06b8bd0f3cf",
   "metadata": {},
   "outputs": [
    {
     "data": {
      "text/plain": [
       "(18871, 12)"
      ]
     },
     "execution_count": 123,
     "metadata": {},
     "output_type": "execute_result"
    }
   ],
   "source": [
    "donors_data.shape"
   ]
  },
  {
   "cell_type": "code",
   "execution_count": 124,
   "id": "70d7e4d3-2ceb-4a69-bc5e-bddc908223fa",
   "metadata": {},
   "outputs": [
    {
     "name": "stdout",
     "output_type": "stream",
     "text": [
      "Total amount of electron bond which is bought is  1215.55 Cr\n"
     ]
    }
   ],
   "source": [
    "#total amount of bond value which is bought\n",
    "total_amount=donors_data['bond_amount'].sum()\n",
    "total_amount_in_cr=total_amount/100000000\n",
    "total_amount_in_cr=round(total_amount_in_cr,2)\n",
    "print(\"Total amount of electron bond which is bought is \",total_amount_in_cr,\"Cr\")"
   ]
  },
  {
   "cell_type": "code",
   "execution_count": 125,
   "id": "4dd9c8ba-14f9-4287-b1a1-b15e94ccd802",
   "metadata": {},
   "outputs": [
    {
     "data": {
      "text/html": [
       "<div>\n",
       "<style scoped>\n",
       "    .dataframe tbody tr th:only-of-type {\n",
       "        vertical-align: middle;\n",
       "    }\n",
       "\n",
       "    .dataframe tbody tr th {\n",
       "        vertical-align: top;\n",
       "    }\n",
       "\n",
       "    .dataframe thead th {\n",
       "        text-align: right;\n",
       "    }\n",
       "</style>\n",
       "<table border=\"1\" class=\"dataframe\">\n",
       "  <thead>\n",
       "    <tr style=\"text-align: right;\">\n",
       "      <th></th>\n",
       "      <th>Sr No.</th>\n",
       "      <th>ref_no</th>\n",
       "      <th>Journal Date</th>\n",
       "      <th>purchase_date</th>\n",
       "      <th>Date of Expiry</th>\n",
       "      <th>Name of the Purchaser</th>\n",
       "      <th>Prefix</th>\n",
       "      <th>bond_no</th>\n",
       "      <th>bond_amount</th>\n",
       "      <th>Issue Branch Code</th>\n",
       "      <th>Issue Teller</th>\n",
       "      <th>Status</th>\n",
       "    </tr>\n",
       "  </thead>\n",
       "  <tbody>\n",
       "    <tr>\n",
       "      <th>1831</th>\n",
       "      <td>1832</td>\n",
       "      <td>00001201905080000001375</td>\n",
       "      <td>2019-05-08</td>\n",
       "      <td>2019-05-08</td>\n",
       "      <td>2019-05-22</td>\n",
       "      <td>ITC LIMITED</td>\n",
       "      <td>OT</td>\n",
       "      <td>5017</td>\n",
       "      <td>1000</td>\n",
       "      <td>1</td>\n",
       "      <td>5899230</td>\n",
       "      <td>Paid</td>\n",
       "    </tr>\n",
       "    <tr>\n",
       "      <th>1842</th>\n",
       "      <td>1843</td>\n",
       "      <td>00001201905080000001375</td>\n",
       "      <td>2019-05-08</td>\n",
       "      <td>2019-05-08</td>\n",
       "      <td>2019-05-22</td>\n",
       "      <td>ITC LIMITED</td>\n",
       "      <td>OT</td>\n",
       "      <td>5013</td>\n",
       "      <td>1000</td>\n",
       "      <td>1</td>\n",
       "      <td>5899230</td>\n",
       "      <td>Paid</td>\n",
       "    </tr>\n",
       "    <tr>\n",
       "      <th>1843</th>\n",
       "      <td>1844</td>\n",
       "      <td>00001201905080000001375</td>\n",
       "      <td>2019-05-08</td>\n",
       "      <td>2019-05-08</td>\n",
       "      <td>2019-05-22</td>\n",
       "      <td>ITC LIMITED</td>\n",
       "      <td>OT</td>\n",
       "      <td>5012</td>\n",
       "      <td>1000</td>\n",
       "      <td>1</td>\n",
       "      <td>5899230</td>\n",
       "      <td>Paid</td>\n",
       "    </tr>\n",
       "    <tr>\n",
       "      <th>1844</th>\n",
       "      <td>1845</td>\n",
       "      <td>00001201905080000001375</td>\n",
       "      <td>2019-05-08</td>\n",
       "      <td>2019-05-08</td>\n",
       "      <td>2019-05-22</td>\n",
       "      <td>ITC LIMITED</td>\n",
       "      <td>OT</td>\n",
       "      <td>5018</td>\n",
       "      <td>1000</td>\n",
       "      <td>1</td>\n",
       "      <td>5899230</td>\n",
       "      <td>Paid</td>\n",
       "    </tr>\n",
       "    <tr>\n",
       "      <th>15879</th>\n",
       "      <td>15880</td>\n",
       "      <td>01355202310110000003394</td>\n",
       "      <td>2023-10-11</td>\n",
       "      <td>2023-10-11</td>\n",
       "      <td>2023-10-25</td>\n",
       "      <td>BHACHIBEN KHAMUBHAI MANVAR</td>\n",
       "      <td>OT</td>\n",
       "      <td>20076</td>\n",
       "      <td>1000</td>\n",
       "      <td>1355</td>\n",
       "      <td>5120497</td>\n",
       "      <td>Paid</td>\n",
       "    </tr>\n",
       "  </tbody>\n",
       "</table>\n",
       "</div>"
      ],
      "text/plain": [
       "       Sr No.                   ref_no Journal Date purchase_date  \\\n",
       "1831     1832  00001201905080000001375   2019-05-08    2019-05-08   \n",
       "1842     1843  00001201905080000001375   2019-05-08    2019-05-08   \n",
       "1843     1844  00001201905080000001375   2019-05-08    2019-05-08   \n",
       "1844     1845  00001201905080000001375   2019-05-08    2019-05-08   \n",
       "15879   15880  01355202310110000003394   2023-10-11    2023-10-11   \n",
       "\n",
       "      Date of Expiry       Name of the Purchaser Prefix  bond_no  bond_amount  \\\n",
       "1831      2019-05-22                 ITC LIMITED     OT     5017         1000   \n",
       "1842      2019-05-22                 ITC LIMITED     OT     5013         1000   \n",
       "1843      2019-05-22                 ITC LIMITED     OT     5012         1000   \n",
       "1844      2019-05-22                 ITC LIMITED     OT     5018         1000   \n",
       "15879     2023-10-25  BHACHIBEN KHAMUBHAI MANVAR     OT    20076         1000   \n",
       "\n",
       "       Issue Branch Code  Issue Teller Status  \n",
       "1831                   1       5899230   Paid  \n",
       "1842                   1       5899230   Paid  \n",
       "1843                   1       5899230   Paid  \n",
       "1844                   1       5899230   Paid  \n",
       "15879               1355       5120497   Paid  "
      ]
     },
     "execution_count": 125,
     "metadata": {},
     "output_type": "execute_result"
    }
   ],
   "source": [
    "# sort by bond amount\n",
    "donors_data.sort_values(by='bond_amount').head()"
   ]
  },
  {
   "cell_type": "code",
   "execution_count": 126,
   "id": "7e9f687a-ded1-4c5c-8e91-82a1549c87e3",
   "metadata": {},
   "outputs": [
    {
     "data": {
      "text/html": [
       "<div>\n",
       "<style scoped>\n",
       "    .dataframe tbody tr th:only-of-type {\n",
       "        vertical-align: middle;\n",
       "    }\n",
       "\n",
       "    .dataframe tbody tr th {\n",
       "        vertical-align: top;\n",
       "    }\n",
       "\n",
       "    .dataframe thead th {\n",
       "        text-align: right;\n",
       "    }\n",
       "</style>\n",
       "<table border=\"1\" class=\"dataframe\">\n",
       "  <thead>\n",
       "    <tr style=\"text-align: right;\">\n",
       "      <th></th>\n",
       "      <th>Name of the Purchaser</th>\n",
       "      <th>bond_amount</th>\n",
       "    </tr>\n",
       "  </thead>\n",
       "  <tbody>\n",
       "    <tr>\n",
       "      <th>9435</th>\n",
       "      <td>FUTURE GAMING AND HOTEL SERVICES PR</td>\n",
       "      <td>10000000</td>\n",
       "    </tr>\n",
       "    <tr>\n",
       "      <th>10946</th>\n",
       "      <td>WELSPUN INDIA LIMITED</td>\n",
       "      <td>10000000</td>\n",
       "    </tr>\n",
       "    <tr>\n",
       "      <th>10934</th>\n",
       "      <td>VEDANTA LIMITED</td>\n",
       "      <td>10000000</td>\n",
       "    </tr>\n",
       "    <tr>\n",
       "      <th>10935</th>\n",
       "      <td>VEDANTA LIMITED</td>\n",
       "      <td>10000000</td>\n",
       "    </tr>\n",
       "    <tr>\n",
       "      <th>10936</th>\n",
       "      <td>VEDANTA LIMITED</td>\n",
       "      <td>10000000</td>\n",
       "    </tr>\n",
       "  </tbody>\n",
       "</table>\n",
       "</div>"
      ],
      "text/plain": [
       "                     Name of the Purchaser  bond_amount\n",
       "9435   FUTURE GAMING AND HOTEL SERVICES PR     10000000\n",
       "10946                WELSPUN INDIA LIMITED     10000000\n",
       "10934                      VEDANTA LIMITED     10000000\n",
       "10935                      VEDANTA LIMITED     10000000\n",
       "10936                      VEDANTA LIMITED     10000000"
      ]
     },
     "execution_count": 126,
     "metadata": {},
     "output_type": "execute_result"
    }
   ],
   "source": [
    "#sort the data based on the bond_amount but in descending woth some particular columns only\n",
    "donors_data.sort_values(by='bond_amount',ascending=False)[['Name of the Purchaser','bond_amount']].head()"
   ]
  },
  {
   "cell_type": "code",
   "execution_count": 127,
   "id": "4a20168e-9979-4f3f-8dd2-f936c33f3ac9",
   "metadata": {},
   "outputs": [
    {
     "data": {
      "text/html": [
       "<div>\n",
       "<style scoped>\n",
       "    .dataframe tbody tr th:only-of-type {\n",
       "        vertical-align: middle;\n",
       "    }\n",
       "\n",
       "    .dataframe tbody tr th {\n",
       "        vertical-align: top;\n",
       "    }\n",
       "\n",
       "    .dataframe thead th {\n",
       "        text-align: right;\n",
       "    }\n",
       "</style>\n",
       "<table border=\"1\" class=\"dataframe\">\n",
       "  <thead>\n",
       "    <tr style=\"text-align: right;\">\n",
       "      <th></th>\n",
       "      <th>Sr No.</th>\n",
       "      <th>ref_no</th>\n",
       "      <th>Journal Date</th>\n",
       "      <th>purchase_date</th>\n",
       "      <th>Date of Expiry</th>\n",
       "      <th>Name of the Purchaser</th>\n",
       "      <th>Prefix</th>\n",
       "      <th>bond_no</th>\n",
       "      <th>bond_amount</th>\n",
       "      <th>Issue Branch Code</th>\n",
       "      <th>Issue Teller</th>\n",
       "      <th>Status</th>\n",
       "    </tr>\n",
       "  </thead>\n",
       "  <tbody>\n",
       "    <tr>\n",
       "      <th>1799</th>\n",
       "      <td>1800</td>\n",
       "      <td>00001201905080000001375</td>\n",
       "      <td>2019-05-08</td>\n",
       "      <td>2019-05-08</td>\n",
       "      <td>2019-05-22</td>\n",
       "      <td>ITC LIMITED</td>\n",
       "      <td>OC</td>\n",
       "      <td>4698</td>\n",
       "      <td>10000000</td>\n",
       "      <td>1</td>\n",
       "      <td>5899230</td>\n",
       "      <td>Paid</td>\n",
       "    </tr>\n",
       "    <tr>\n",
       "      <th>1800</th>\n",
       "      <td>1801</td>\n",
       "      <td>00001201905080000001375</td>\n",
       "      <td>2019-05-08</td>\n",
       "      <td>2019-05-08</td>\n",
       "      <td>2019-05-22</td>\n",
       "      <td>ITC LIMITED</td>\n",
       "      <td>OC</td>\n",
       "      <td>4686</td>\n",
       "      <td>10000000</td>\n",
       "      <td>1</td>\n",
       "      <td>5899230</td>\n",
       "      <td>Paid</td>\n",
       "    </tr>\n",
       "    <tr>\n",
       "      <th>1801</th>\n",
       "      <td>1802</td>\n",
       "      <td>00001201905080000001375</td>\n",
       "      <td>2019-05-08</td>\n",
       "      <td>2019-05-08</td>\n",
       "      <td>2019-05-22</td>\n",
       "      <td>ITC LIMITED</td>\n",
       "      <td>OC</td>\n",
       "      <td>4700</td>\n",
       "      <td>10000000</td>\n",
       "      <td>1</td>\n",
       "      <td>5899230</td>\n",
       "      <td>Paid</td>\n",
       "    </tr>\n",
       "    <tr>\n",
       "      <th>1802</th>\n",
       "      <td>1803</td>\n",
       "      <td>00001201905080000001375</td>\n",
       "      <td>2019-05-08</td>\n",
       "      <td>2019-05-08</td>\n",
       "      <td>2019-05-22</td>\n",
       "      <td>ITC LIMITED</td>\n",
       "      <td>OC</td>\n",
       "      <td>7361</td>\n",
       "      <td>10000000</td>\n",
       "      <td>1</td>\n",
       "      <td>5899230</td>\n",
       "      <td>Paid</td>\n",
       "    </tr>\n",
       "    <tr>\n",
       "      <th>1803</th>\n",
       "      <td>1804</td>\n",
       "      <td>00001201905080000001375</td>\n",
       "      <td>2019-05-08</td>\n",
       "      <td>2019-05-08</td>\n",
       "      <td>2019-05-22</td>\n",
       "      <td>ITC LIMITED</td>\n",
       "      <td>OC</td>\n",
       "      <td>4682</td>\n",
       "      <td>10000000</td>\n",
       "      <td>1</td>\n",
       "      <td>5899230</td>\n",
       "      <td>Paid</td>\n",
       "    </tr>\n",
       "  </tbody>\n",
       "</table>\n",
       "</div>"
      ],
      "text/plain": [
       "      Sr No.                   ref_no Journal Date purchase_date  \\\n",
       "1799    1800  00001201905080000001375   2019-05-08    2019-05-08   \n",
       "1800    1801  00001201905080000001375   2019-05-08    2019-05-08   \n",
       "1801    1802  00001201905080000001375   2019-05-08    2019-05-08   \n",
       "1802    1803  00001201905080000001375   2019-05-08    2019-05-08   \n",
       "1803    1804  00001201905080000001375   2019-05-08    2019-05-08   \n",
       "\n",
       "     Date of Expiry Name of the Purchaser Prefix  bond_no  bond_amount  \\\n",
       "1799     2019-05-22           ITC LIMITED     OC     4698     10000000   \n",
       "1800     2019-05-22           ITC LIMITED     OC     4686     10000000   \n",
       "1801     2019-05-22           ITC LIMITED     OC     4700     10000000   \n",
       "1802     2019-05-22           ITC LIMITED     OC     7361     10000000   \n",
       "1803     2019-05-22           ITC LIMITED     OC     4682     10000000   \n",
       "\n",
       "      Issue Branch Code  Issue Teller Status  \n",
       "1799                  1       5899230   Paid  \n",
       "1800                  1       5899230   Paid  \n",
       "1801                  1       5899230   Paid  \n",
       "1802                  1       5899230   Paid  \n",
       "1803                  1       5899230   Paid  "
      ]
     },
     "execution_count": 127,
     "metadata": {},
     "output_type": "execute_result"
    }
   ],
   "source": [
    "#data selection based on multiple condition\n",
    "#information about the company called ITC LIMITED\n",
    "donors_data[(donors_data['Name of the Purchaser'])==\"ITC LIMITED\"].head()"
   ]
  },
  {
   "cell_type": "code",
   "execution_count": 128,
   "id": "21ce8612-8f96-47c5-a148-749d78c1a5a1",
   "metadata": {},
   "outputs": [
    {
     "data": {
      "text/plain": [
       "5"
      ]
     },
     "execution_count": 128,
     "metadata": {},
     "output_type": "execute_result"
    }
   ],
   "source": [
    "len(donors_data[(donors_data['Name of the Purchaser'])==\"ITC LIMITED\"].head())"
   ]
  },
  {
   "cell_type": "code",
   "execution_count": 129,
   "id": "692effb4-49b3-402e-9b79-8bbcfa7ea373",
   "metadata": {},
   "outputs": [
    {
     "data": {
      "text/html": [
       "<div>\n",
       "<style scoped>\n",
       "    .dataframe tbody tr th:only-of-type {\n",
       "        vertical-align: middle;\n",
       "    }\n",
       "\n",
       "    .dataframe tbody tr th {\n",
       "        vertical-align: top;\n",
       "    }\n",
       "\n",
       "    .dataframe thead th {\n",
       "        text-align: right;\n",
       "    }\n",
       "</style>\n",
       "<table border=\"1\" class=\"dataframe\">\n",
       "  <thead>\n",
       "    <tr style=\"text-align: right;\">\n",
       "      <th></th>\n",
       "      <th>Sr No.</th>\n",
       "      <th>ref_no</th>\n",
       "      <th>Journal Date</th>\n",
       "      <th>purchase_date</th>\n",
       "      <th>Date of Expiry</th>\n",
       "      <th>Name of the Purchaser</th>\n",
       "      <th>Prefix</th>\n",
       "      <th>bond_no</th>\n",
       "      <th>bond_amount</th>\n",
       "      <th>Issue Branch Code</th>\n",
       "      <th>Issue Teller</th>\n",
       "      <th>Status</th>\n",
       "    </tr>\n",
       "  </thead>\n",
       "  <tbody>\n",
       "    <tr>\n",
       "      <th>1799</th>\n",
       "      <td>1800</td>\n",
       "      <td>00001201905080000001375</td>\n",
       "      <td>2019-05-08</td>\n",
       "      <td>2019-05-08</td>\n",
       "      <td>2019-05-22</td>\n",
       "      <td>ITC LIMITED</td>\n",
       "      <td>OC</td>\n",
       "      <td>4698</td>\n",
       "      <td>10000000</td>\n",
       "      <td>1</td>\n",
       "      <td>5899230</td>\n",
       "      <td>Paid</td>\n",
       "    </tr>\n",
       "    <tr>\n",
       "      <th>1800</th>\n",
       "      <td>1801</td>\n",
       "      <td>00001201905080000001375</td>\n",
       "      <td>2019-05-08</td>\n",
       "      <td>2019-05-08</td>\n",
       "      <td>2019-05-22</td>\n",
       "      <td>ITC LIMITED</td>\n",
       "      <td>OC</td>\n",
       "      <td>4686</td>\n",
       "      <td>10000000</td>\n",
       "      <td>1</td>\n",
       "      <td>5899230</td>\n",
       "      <td>Paid</td>\n",
       "    </tr>\n",
       "    <tr>\n",
       "      <th>1801</th>\n",
       "      <td>1802</td>\n",
       "      <td>00001201905080000001375</td>\n",
       "      <td>2019-05-08</td>\n",
       "      <td>2019-05-08</td>\n",
       "      <td>2019-05-22</td>\n",
       "      <td>ITC LIMITED</td>\n",
       "      <td>OC</td>\n",
       "      <td>4700</td>\n",
       "      <td>10000000</td>\n",
       "      <td>1</td>\n",
       "      <td>5899230</td>\n",
       "      <td>Paid</td>\n",
       "    </tr>\n",
       "    <tr>\n",
       "      <th>1802</th>\n",
       "      <td>1803</td>\n",
       "      <td>00001201905080000001375</td>\n",
       "      <td>2019-05-08</td>\n",
       "      <td>2019-05-08</td>\n",
       "      <td>2019-05-22</td>\n",
       "      <td>ITC LIMITED</td>\n",
       "      <td>OC</td>\n",
       "      <td>7361</td>\n",
       "      <td>10000000</td>\n",
       "      <td>1</td>\n",
       "      <td>5899230</td>\n",
       "      <td>Paid</td>\n",
       "    </tr>\n",
       "    <tr>\n",
       "      <th>1803</th>\n",
       "      <td>1804</td>\n",
       "      <td>00001201905080000001375</td>\n",
       "      <td>2019-05-08</td>\n",
       "      <td>2019-05-08</td>\n",
       "      <td>2019-05-22</td>\n",
       "      <td>ITC LIMITED</td>\n",
       "      <td>OC</td>\n",
       "      <td>4682</td>\n",
       "      <td>10000000</td>\n",
       "      <td>1</td>\n",
       "      <td>5899230</td>\n",
       "      <td>Paid</td>\n",
       "    </tr>\n",
       "  </tbody>\n",
       "</table>\n",
       "</div>"
      ],
      "text/plain": [
       "      Sr No.                   ref_no Journal Date purchase_date  \\\n",
       "1799    1800  00001201905080000001375   2019-05-08    2019-05-08   \n",
       "1800    1801  00001201905080000001375   2019-05-08    2019-05-08   \n",
       "1801    1802  00001201905080000001375   2019-05-08    2019-05-08   \n",
       "1802    1803  00001201905080000001375   2019-05-08    2019-05-08   \n",
       "1803    1804  00001201905080000001375   2019-05-08    2019-05-08   \n",
       "\n",
       "     Date of Expiry Name of the Purchaser Prefix  bond_no  bond_amount  \\\n",
       "1799     2019-05-22           ITC LIMITED     OC     4698     10000000   \n",
       "1800     2019-05-22           ITC LIMITED     OC     4686     10000000   \n",
       "1801     2019-05-22           ITC LIMITED     OC     4700     10000000   \n",
       "1802     2019-05-22           ITC LIMITED     OC     7361     10000000   \n",
       "1803     2019-05-22           ITC LIMITED     OC     4682     10000000   \n",
       "\n",
       "      Issue Branch Code  Issue Teller Status  \n",
       "1799                  1       5899230   Paid  \n",
       "1800                  1       5899230   Paid  \n",
       "1801                  1       5899230   Paid  \n",
       "1802                  1       5899230   Paid  \n",
       "1803                  1       5899230   Paid  "
      ]
     },
     "execution_count": 129,
     "metadata": {},
     "output_type": "execute_result"
    }
   ],
   "source": [
    "#mulitple condition like purcharser should be itc and bond_amount should be greater than or equal to 1cr\n",
    "donors_data[(donors_data['Name of the Purchaser']==\"ITC LIMITED\") & (donors_data['bond_amount']>=10000000)]"
   ]
  },
  {
   "cell_type": "code",
   "execution_count": 130,
   "id": "bf1716a1-1609-4d94-9862-ed47b07ef0c8",
   "metadata": {},
   "outputs": [
    {
     "data": {
      "text/plain": [
       "5"
      ]
     },
     "execution_count": 130,
     "metadata": {},
     "output_type": "execute_result"
    }
   ],
   "source": [
    "len(donors_data[(donors_data['Name of the Purchaser']==\"ITC LIMITED\") & (donors_data['bond_amount']>=10000000)])"
   ]
  },
  {
   "cell_type": "code",
   "execution_count": 131,
   "id": "ff3aecd9-352a-4af1-bac7-79e87fec489f",
   "metadata": {},
   "outputs": [
    {
     "data": {
      "text/plain": [
       "array(['A B C INDIA LIMITED',\n",
       "       'ACROPOLIS MAINTENANCE SERVICES PRIVATE LIMITED',\n",
       "       'ARIHANT ENTERPRISES', ..., 'VEDIKA VANIJYA PVT LTD-SELF A/C',\n",
       "       'VIDUR GUPTA', 'VIHAAN AUTO VENTURES PRIVATE LIMITED'],\n",
       "      dtype=object)"
      ]
     },
     "execution_count": 131,
     "metadata": {},
     "output_type": "execute_result"
    }
   ],
   "source": [
    "#unique value\n",
    "donors_data['Name of the Purchaser'].unique()"
   ]
  },
  {
   "cell_type": "code",
   "execution_count": 132,
   "id": "eecd87b7-b484-4914-ac19-e3a00b57bc05",
   "metadata": {},
   "outputs": [
    {
     "data": {
      "text/plain": [
       "array([ 1000000,   100000, 10000000,     1000,    10000], dtype=int64)"
      ]
     },
     "execution_count": 132,
     "metadata": {},
     "output_type": "execute_result"
    }
   ],
   "source": [
    "donors_data['bond_amount'].unique()"
   ]
  },
  {
   "cell_type": "code",
   "execution_count": 133,
   "id": "a89bf12a-fe6f-410c-9d79-01b25c1632ff",
   "metadata": {},
   "outputs": [
    {
     "data": {
      "text/plain": [
       "Index(['Sr No.', 'enchash_date', 'Name of the Political Party',\n",
       "       'Account no. of\\nPolitical Party', 'Prefix', 'bond_no', 'Denominations',\n",
       "       'branch_code', 'Pay Teller'],\n",
       "      dtype='object')"
      ]
     },
     "execution_count": 133,
     "metadata": {},
     "output_type": "execute_result"
    }
   ],
   "source": [
    "receiver_data.columns"
   ]
  },
  {
   "cell_type": "code",
   "execution_count": 134,
   "id": "b3112fd3-5e3c-4413-bd1a-b3dbf993583d",
   "metadata": {},
   "outputs": [
    {
     "data": {
      "text/plain": [
       "Name of the Political Party\n",
       "BHARATIYA JANATA PARTY                                          8633\n",
       "ALL INDIA TRINAMOOL CONGRESS                                    3305\n",
       "PRESIDENT, ALL INDIA CONGRESS COMMITTEE                         3146\n",
       "BHARAT RASHTRA SAMITHI                                          1806\n",
       "BIJU JANATA DAL                                                  861\n",
       "DRAVIDA MUNNETRA KAZHAGAM (DMK)                                  648\n",
       "YSR  CONGRESS PARTY  (YUVAJANA SRAMIKA RYTHU CONGRESS PARTY)     472\n",
       "SHIVSENA                                                         355\n",
       "TELUGU DESAM PARTY                                               279\n",
       "AAM AADMI PARTY                                                  245\n",
       "RASHTRIYA JANTA DAL                                              150\n",
       "NATIONALIST CONGRESS PARTY MAHARASHTRA PRADESH                   121\n",
       "JANATA DAL ( SECULAR )                                            75\n",
       "SIKKIM KRANTIKARI MORCHA                                          50\n",
       "ADYAKSHA SAMAJVADI PARTY                                          46\n",
       "JHARKHAND MUKTI MORCHA                                            45\n",
       "JANASENA PARTY                                                    39\n",
       "ALL INDIA ANNA DRAVIDA MUNNETRA KAZHAGAM                          38\n",
       "SHIROMANI AKALI DAL                                               33\n",
       "MAHARASHTRAWADI GOMNTAK PARTY                                     28\n",
       "GOA FORWARD PARTY                                                 17\n",
       "BIHAR PRADESH JANTA DAL(UNITED)                                   14\n",
       "SIKKIM DEMOCRATIC FRONT                                           10\n",
       "JAMMU AND KASHMIR NATIONAL CONFERENCE                              5\n",
       "Name: count, dtype: int64"
      ]
     },
     "execution_count": 134,
     "metadata": {},
     "output_type": "execute_result"
    }
   ],
   "source": [
    "receiver_data['Name of the Political Party'].value_counts()"
   ]
  },
  {
   "cell_type": "code",
   "execution_count": 135,
   "id": "bf08b108-e21a-481d-b158-9c3a6fe34ab9",
   "metadata": {},
   "outputs": [
    {
     "data": {
      "text/plain": [
       "Sr No.                             0\n",
       "enchash_date                       0\n",
       "Name of the Political Party        0\n",
       "Account no. of\\nPolitical Party    0\n",
       "Prefix                             0\n",
       "bond_no                            0\n",
       "Denominations                      0\n",
       "branch_code                        0\n",
       "Pay Teller                         0\n",
       "dtype: int64"
      ]
     },
     "execution_count": 135,
     "metadata": {},
     "output_type": "execute_result"
    }
   ],
   "source": [
    "receiver_data.isnull().sum()"
   ]
  },
  {
   "cell_type": "code",
   "execution_count": 136,
   "id": "3010b6d0-529d-4c02-8ffa-75b568b2850a",
   "metadata": {},
   "outputs": [
    {
     "data": {
      "text/plain": [
       "Sr No.                   0\n",
       "ref_no                   0\n",
       "Journal Date             0\n",
       "purchase_date            0\n",
       "Date of Expiry           0\n",
       "Name of the Purchaser    0\n",
       "Prefix                   0\n",
       "bond_no                  0\n",
       "bond_amount              0\n",
       "Issue Branch Code        0\n",
       "Issue Teller             0\n",
       "Status                   0\n",
       "dtype: int64"
      ]
     },
     "execution_count": 136,
     "metadata": {},
     "output_type": "execute_result"
    }
   ],
   "source": [
    "donors_data.isnull().sum()"
   ]
  },
  {
   "cell_type": "code",
   "execution_count": 137,
   "id": "45b7ed2e-eaa8-4ff9-b8ea-22132820e2c2",
   "metadata": {},
   "outputs": [
    {
     "data": {
      "text/plain": [
       "Index(['Sr No.', 'ref_no', 'Journal Date', 'purchase_date', 'Date of Expiry',\n",
       "       'Name of the Purchaser', 'Prefix', 'bond_no', 'bond_amount',\n",
       "       'Issue Branch Code', 'Issue Teller', 'Status'],\n",
       "      dtype='object')"
      ]
     },
     "execution_count": 137,
     "metadata": {},
     "output_type": "execute_result"
    }
   ],
   "source": [
    "donors_data.columns"
   ]
  },
  {
   "cell_type": "code",
   "execution_count": 138,
   "id": "dc31423f-c00a-423e-a17f-5313e792e291",
   "metadata": {},
   "outputs": [],
   "source": [
    "donors_data.drop(['ref_no'],axis=1,inplace=True)"
   ]
  },
  {
   "cell_type": "code",
   "execution_count": 139,
   "id": "e1df05c7-98ea-4c85-ac0b-567ad5f39ed6",
   "metadata": {},
   "outputs": [
    {
     "data": {
      "text/plain": [
       "Index(['Sr No.', 'Journal Date', 'purchase_date', 'Date of Expiry',\n",
       "       'Name of the Purchaser', 'Prefix', 'bond_no', 'bond_amount',\n",
       "       'Issue Branch Code', 'Issue Teller', 'Status'],\n",
       "      dtype='object')"
      ]
     },
     "execution_count": 139,
     "metadata": {},
     "output_type": "execute_result"
    }
   ],
   "source": [
    "donors_data.columns"
   ]
  },
  {
   "cell_type": "code",
   "execution_count": 140,
   "id": "81f6698d-0a51-4552-8a36-de8fda80acf7",
   "metadata": {},
   "outputs": [
    {
     "data": {
      "text/plain": [
       "array(['Paid', 'Expired'], dtype=object)"
      ]
     },
     "execution_count": 140,
     "metadata": {},
     "output_type": "execute_result"
    }
   ],
   "source": [
    "donors_data['Status'].unique()"
   ]
  },
  {
   "cell_type": "code",
   "execution_count": 141,
   "id": "37150923-58c7-42c5-b67e-1a5cb2c5f59e",
   "metadata": {},
   "outputs": [
    {
     "data": {
      "text/plain": [
       "Name of the Political Party\n",
       "AAM AADMI PARTY                                                   654500000\n",
       "ADYAKSHA SAMAJVADI PARTY                                          140500000\n",
       "ALL INDIA ANNA DRAVIDA MUNNETRA KAZHAGAM                           60500000\n",
       "ALL INDIA TRINAMOOL CONGRESS                                    16095314000\n",
       "BHARAT RASHTRA SAMITHI                                          12147099000\n",
       "BHARATIYA JANATA PARTY                                          60605111000\n",
       "BIHAR PRADESH JANTA DAL(UNITED)                                   140000000\n",
       "BIJU JANATA DAL                                                  7755000000\n",
       "DRAVIDA MUNNETRA KAZHAGAM (DMK)                                  6390000000\n",
       "GOA FORWARD PARTY                                                   3500000\n",
       "JAMMU AND KASHMIR NATIONAL CONFERENCE                               5000000\n",
       "JANASENA PARTY                                                    210000000\n",
       "JANATA DAL ( SECULAR )                                            435000000\n",
       "JHARKHAND MUKTI MORCHA                                            135000000\n",
       "MAHARASHTRAWADI GOMNTAK PARTY                                       5500000\n",
       "NATIONALIST CONGRESS PARTY MAHARASHTRA PRADESH                    310000000\n",
       "PRESIDENT, ALL INDIA CONGRESS COMMITTEE                         14218655000\n",
       "RASHTRIYA JANTA DAL                                               735000000\n",
       "SHIROMANI AKALI DAL                                                72600000\n",
       "SHIVSENA                                                         1593814000\n",
       "SIKKIM DEMOCRATIC FRONT                                            55000000\n",
       "SIKKIM KRANTIKARI MORCHA                                          365000000\n",
       "TELUGU DESAM PARTY                                               2188800000\n",
       "YSR  CONGRESS PARTY  (YUVAJANA SRAMIKA RYTHU CONGRESS PARTY)     3370000000\n",
       "Name: Denominations, dtype: int64"
      ]
     },
     "execution_count": 141,
     "metadata": {},
     "output_type": "execute_result"
    }
   ],
   "source": [
    "receiver_data.groupby(['Name of the Political Party'])['Denominations'].sum()"
   ]
  },
  {
   "cell_type": "code",
   "execution_count": 142,
   "id": "34a9e247-1823-4dee-9cf7-9277921c123c",
   "metadata": {},
   "outputs": [],
   "source": [
    "party_with_fund = pd.DataFrame(receiver_data.groupby(['Name of the Political Party'])['Denominations'].sum())"
   ]
  },
  {
   "cell_type": "code",
   "execution_count": 143,
   "id": "71f7aa89-91c9-496c-80ee-5e217a563974",
   "metadata": {},
   "outputs": [
    {
     "data": {
      "text/plain": [
       "Index(['Denominations'], dtype='object')"
      ]
     },
     "execution_count": 143,
     "metadata": {},
     "output_type": "execute_result"
    }
   ],
   "source": [
    "party_with_fund.columns"
   ]
  },
  {
   "cell_type": "code",
   "execution_count": 144,
   "id": "6871951d-c53d-4c5a-aa09-012698b8065b",
   "metadata": {},
   "outputs": [],
   "source": [
    "party_with_fund.reset_index(inplace=True)"
   ]
  },
  {
   "cell_type": "code",
   "execution_count": 145,
   "id": "85c64c21-a13b-4119-99ac-fef15a182f3a",
   "metadata": {},
   "outputs": [
    {
     "data": {
      "text/plain": [
       "Index(['Name of the Political Party', 'Denominations'], dtype='object')"
      ]
     },
     "execution_count": 145,
     "metadata": {},
     "output_type": "execute_result"
    }
   ],
   "source": [
    "party_with_fund.columns"
   ]
  },
  {
   "cell_type": "code",
   "execution_count": 146,
   "id": "752e2ced-8c63-444f-9034-2b99dc62a1ed",
   "metadata": {},
   "outputs": [
    {
     "name": "stdout",
     "output_type": "stream",
     "text": [
      "0       65.45\n",
      "1       14.05\n",
      "2        6.05\n",
      "3     1609.53\n",
      "4     1214.71\n",
      "5     6060.51\n",
      "6       14.00\n",
      "7      775.50\n",
      "8      639.00\n",
      "9        0.35\n",
      "10       0.50\n",
      "11      21.00\n",
      "12      43.50\n",
      "13      13.50\n",
      "14       0.55\n",
      "15      31.00\n",
      "16    1421.87\n",
      "17      73.50\n",
      "18       7.26\n",
      "19     159.38\n",
      "20       5.50\n",
      "21      36.50\n",
      "22     218.88\n",
      "23     337.00\n",
      "Name: Denominations, dtype: float64 Cr\n"
     ]
    }
   ],
   "source": [
    "x=party_with_fund['Denominations']\n",
    "x1=x/10000000\n",
    "x1=round(x1,2)\n",
    "print(x1,\"Cr\")"
   ]
  },
  {
   "cell_type": "code",
   "execution_count": 147,
   "id": "3db5e6af-8a04-4791-9012-e20245a24c3f",
   "metadata": {},
   "outputs": [
    {
     "data": {
      "text/html": [
       "<div>\n",
       "<style scoped>\n",
       "    .dataframe tbody tr th:only-of-type {\n",
       "        vertical-align: middle;\n",
       "    }\n",
       "\n",
       "    .dataframe tbody tr th {\n",
       "        vertical-align: top;\n",
       "    }\n",
       "\n",
       "    .dataframe thead th {\n",
       "        text-align: right;\n",
       "    }\n",
       "</style>\n",
       "<table border=\"1\" class=\"dataframe\">\n",
       "  <thead>\n",
       "    <tr style=\"text-align: right;\">\n",
       "      <th></th>\n",
       "      <th>Name of the Political Party</th>\n",
       "      <th>Denominations</th>\n",
       "    </tr>\n",
       "  </thead>\n",
       "  <tbody>\n",
       "    <tr>\n",
       "      <th>0</th>\n",
       "      <td>AAM AADMI PARTY</td>\n",
       "      <td>654500000</td>\n",
       "    </tr>\n",
       "    <tr>\n",
       "      <th>1</th>\n",
       "      <td>ADYAKSHA SAMAJVADI PARTY</td>\n",
       "      <td>140500000</td>\n",
       "    </tr>\n",
       "    <tr>\n",
       "      <th>2</th>\n",
       "      <td>ALL INDIA ANNA DRAVIDA MUNNETRA KAZHAGAM</td>\n",
       "      <td>60500000</td>\n",
       "    </tr>\n",
       "    <tr>\n",
       "      <th>3</th>\n",
       "      <td>ALL INDIA TRINAMOOL CONGRESS</td>\n",
       "      <td>16095314000</td>\n",
       "    </tr>\n",
       "    <tr>\n",
       "      <th>4</th>\n",
       "      <td>BHARAT RASHTRA SAMITHI</td>\n",
       "      <td>12147099000</td>\n",
       "    </tr>\n",
       "    <tr>\n",
       "      <th>5</th>\n",
       "      <td>BHARATIYA JANATA PARTY</td>\n",
       "      <td>60605111000</td>\n",
       "    </tr>\n",
       "    <tr>\n",
       "      <th>6</th>\n",
       "      <td>BIHAR PRADESH JANTA DAL(UNITED)</td>\n",
       "      <td>140000000</td>\n",
       "    </tr>\n",
       "    <tr>\n",
       "      <th>7</th>\n",
       "      <td>BIJU JANATA DAL</td>\n",
       "      <td>7755000000</td>\n",
       "    </tr>\n",
       "    <tr>\n",
       "      <th>8</th>\n",
       "      <td>DRAVIDA MUNNETRA KAZHAGAM (DMK)</td>\n",
       "      <td>6390000000</td>\n",
       "    </tr>\n",
       "    <tr>\n",
       "      <th>9</th>\n",
       "      <td>GOA FORWARD PARTY</td>\n",
       "      <td>3500000</td>\n",
       "    </tr>\n",
       "    <tr>\n",
       "      <th>10</th>\n",
       "      <td>JAMMU AND KASHMIR NATIONAL CONFERENCE</td>\n",
       "      <td>5000000</td>\n",
       "    </tr>\n",
       "    <tr>\n",
       "      <th>11</th>\n",
       "      <td>JANASENA PARTY</td>\n",
       "      <td>210000000</td>\n",
       "    </tr>\n",
       "    <tr>\n",
       "      <th>12</th>\n",
       "      <td>JANATA DAL ( SECULAR )</td>\n",
       "      <td>435000000</td>\n",
       "    </tr>\n",
       "    <tr>\n",
       "      <th>13</th>\n",
       "      <td>JHARKHAND MUKTI MORCHA</td>\n",
       "      <td>135000000</td>\n",
       "    </tr>\n",
       "    <tr>\n",
       "      <th>14</th>\n",
       "      <td>MAHARASHTRAWADI GOMNTAK PARTY</td>\n",
       "      <td>5500000</td>\n",
       "    </tr>\n",
       "    <tr>\n",
       "      <th>15</th>\n",
       "      <td>NATIONALIST CONGRESS PARTY MAHARASHTRA PRADESH</td>\n",
       "      <td>310000000</td>\n",
       "    </tr>\n",
       "    <tr>\n",
       "      <th>16</th>\n",
       "      <td>PRESIDENT, ALL INDIA CONGRESS COMMITTEE</td>\n",
       "      <td>14218655000</td>\n",
       "    </tr>\n",
       "    <tr>\n",
       "      <th>17</th>\n",
       "      <td>RASHTRIYA JANTA DAL</td>\n",
       "      <td>735000000</td>\n",
       "    </tr>\n",
       "    <tr>\n",
       "      <th>18</th>\n",
       "      <td>SHIROMANI AKALI DAL</td>\n",
       "      <td>72600000</td>\n",
       "    </tr>\n",
       "    <tr>\n",
       "      <th>19</th>\n",
       "      <td>SHIVSENA</td>\n",
       "      <td>1593814000</td>\n",
       "    </tr>\n",
       "    <tr>\n",
       "      <th>20</th>\n",
       "      <td>SIKKIM DEMOCRATIC FRONT</td>\n",
       "      <td>55000000</td>\n",
       "    </tr>\n",
       "    <tr>\n",
       "      <th>21</th>\n",
       "      <td>SIKKIM KRANTIKARI MORCHA</td>\n",
       "      <td>365000000</td>\n",
       "    </tr>\n",
       "    <tr>\n",
       "      <th>22</th>\n",
       "      <td>TELUGU DESAM PARTY</td>\n",
       "      <td>2188800000</td>\n",
       "    </tr>\n",
       "    <tr>\n",
       "      <th>23</th>\n",
       "      <td>YSR  CONGRESS PARTY  (YUVAJANA SRAMIKA RYTHU C...</td>\n",
       "      <td>3370000000</td>\n",
       "    </tr>\n",
       "  </tbody>\n",
       "</table>\n",
       "</div>"
      ],
      "text/plain": [
       "                          Name of the Political Party  Denominations\n",
       "0                                     AAM AADMI PARTY      654500000\n",
       "1                            ADYAKSHA SAMAJVADI PARTY      140500000\n",
       "2            ALL INDIA ANNA DRAVIDA MUNNETRA KAZHAGAM       60500000\n",
       "3                        ALL INDIA TRINAMOOL CONGRESS    16095314000\n",
       "4                              BHARAT RASHTRA SAMITHI    12147099000\n",
       "5                              BHARATIYA JANATA PARTY    60605111000\n",
       "6                     BIHAR PRADESH JANTA DAL(UNITED)      140000000\n",
       "7                                     BIJU JANATA DAL     7755000000\n",
       "8                     DRAVIDA MUNNETRA KAZHAGAM (DMK)     6390000000\n",
       "9                                   GOA FORWARD PARTY        3500000\n",
       "10              JAMMU AND KASHMIR NATIONAL CONFERENCE        5000000\n",
       "11                                     JANASENA PARTY      210000000\n",
       "12                             JANATA DAL ( SECULAR )      435000000\n",
       "13                             JHARKHAND MUKTI MORCHA      135000000\n",
       "14                      MAHARASHTRAWADI GOMNTAK PARTY        5500000\n",
       "15     NATIONALIST CONGRESS PARTY MAHARASHTRA PRADESH      310000000\n",
       "16            PRESIDENT, ALL INDIA CONGRESS COMMITTEE    14218655000\n",
       "17                                RASHTRIYA JANTA DAL      735000000\n",
       "18                                SHIROMANI AKALI DAL       72600000\n",
       "19                                           SHIVSENA     1593814000\n",
       "20                            SIKKIM DEMOCRATIC FRONT       55000000\n",
       "21                           SIKKIM KRANTIKARI MORCHA      365000000\n",
       "22                                 TELUGU DESAM PARTY     2188800000\n",
       "23  YSR  CONGRESS PARTY  (YUVAJANA SRAMIKA RYTHU C...     3370000000"
      ]
     },
     "execution_count": 147,
     "metadata": {},
     "output_type": "execute_result"
    }
   ],
   "source": [
    "party_with_fund"
   ]
  },
  {
   "cell_type": "code",
   "execution_count": 148,
   "id": "7d1d27f8-b42d-4de4-8209-fb13de542e43",
   "metadata": {},
   "outputs": [
    {
     "data": {
      "text/html": [
       "<div>\n",
       "<style scoped>\n",
       "    .dataframe tbody tr th:only-of-type {\n",
       "        vertical-align: middle;\n",
       "    }\n",
       "\n",
       "    .dataframe tbody tr th {\n",
       "        vertical-align: top;\n",
       "    }\n",
       "\n",
       "    .dataframe thead th {\n",
       "        text-align: right;\n",
       "    }\n",
       "</style>\n",
       "<table border=\"1\" class=\"dataframe\">\n",
       "  <thead>\n",
       "    <tr style=\"text-align: right;\">\n",
       "      <th></th>\n",
       "      <th>Sr No.</th>\n",
       "      <th>Journal Date</th>\n",
       "      <th>purchase_date</th>\n",
       "      <th>Date of Expiry</th>\n",
       "      <th>Name of the Purchaser</th>\n",
       "      <th>Prefix</th>\n",
       "      <th>bond_no</th>\n",
       "      <th>bond_amount</th>\n",
       "      <th>Issue Branch Code</th>\n",
       "      <th>Issue Teller</th>\n",
       "      <th>Status</th>\n",
       "    </tr>\n",
       "  </thead>\n",
       "  <tbody>\n",
       "    <tr>\n",
       "      <th>0</th>\n",
       "      <td>1</td>\n",
       "      <td>2019-04-12</td>\n",
       "      <td>2019-04-12</td>\n",
       "      <td>2019-04-26</td>\n",
       "      <td>A B C INDIA LIMITED</td>\n",
       "      <td>TL</td>\n",
       "      <td>11448</td>\n",
       "      <td>1000000</td>\n",
       "      <td>1</td>\n",
       "      <td>5899230</td>\n",
       "      <td>Paid</td>\n",
       "    </tr>\n",
       "    <tr>\n",
       "      <th>1</th>\n",
       "      <td>2</td>\n",
       "      <td>2019-04-12</td>\n",
       "      <td>2019-04-12</td>\n",
       "      <td>2019-04-26</td>\n",
       "      <td>A B C INDIA LIMITED</td>\n",
       "      <td>TL</td>\n",
       "      <td>11447</td>\n",
       "      <td>1000000</td>\n",
       "      <td>1</td>\n",
       "      <td>5899230</td>\n",
       "      <td>Paid</td>\n",
       "    </tr>\n",
       "    <tr>\n",
       "      <th>2</th>\n",
       "      <td>3</td>\n",
       "      <td>2019-04-12</td>\n",
       "      <td>2019-04-12</td>\n",
       "      <td>2019-04-26</td>\n",
       "      <td>A B C INDIA LIMITED</td>\n",
       "      <td>TL</td>\n",
       "      <td>11441</td>\n",
       "      <td>1000000</td>\n",
       "      <td>1</td>\n",
       "      <td>5899230</td>\n",
       "      <td>Paid</td>\n",
       "    </tr>\n",
       "    <tr>\n",
       "      <th>3</th>\n",
       "      <td>4</td>\n",
       "      <td>2019-04-12</td>\n",
       "      <td>2019-04-12</td>\n",
       "      <td>2019-04-26</td>\n",
       "      <td>A B C INDIA LIMITED</td>\n",
       "      <td>OL</td>\n",
       "      <td>1113</td>\n",
       "      <td>100000</td>\n",
       "      <td>1</td>\n",
       "      <td>5899230</td>\n",
       "      <td>Paid</td>\n",
       "    </tr>\n",
       "    <tr>\n",
       "      <th>4</th>\n",
       "      <td>5</td>\n",
       "      <td>2019-04-12</td>\n",
       "      <td>2019-04-12</td>\n",
       "      <td>2019-04-26</td>\n",
       "      <td>A B C INDIA LIMITED</td>\n",
       "      <td>OL</td>\n",
       "      <td>1118</td>\n",
       "      <td>100000</td>\n",
       "      <td>1</td>\n",
       "      <td>5899230</td>\n",
       "      <td>Paid</td>\n",
       "    </tr>\n",
       "  </tbody>\n",
       "</table>\n",
       "</div>"
      ],
      "text/plain": [
       "   Sr No. Journal Date purchase_date Date of Expiry Name of the Purchaser  \\\n",
       "0       1   2019-04-12    2019-04-12     2019-04-26   A B C INDIA LIMITED   \n",
       "1       2   2019-04-12    2019-04-12     2019-04-26   A B C INDIA LIMITED   \n",
       "2       3   2019-04-12    2019-04-12     2019-04-26   A B C INDIA LIMITED   \n",
       "3       4   2019-04-12    2019-04-12     2019-04-26   A B C INDIA LIMITED   \n",
       "4       5   2019-04-12    2019-04-12     2019-04-26   A B C INDIA LIMITED   \n",
       "\n",
       "  Prefix  bond_no  bond_amount  Issue Branch Code  Issue Teller Status  \n",
       "0     TL    11448      1000000                  1       5899230   Paid  \n",
       "1     TL    11447      1000000                  1       5899230   Paid  \n",
       "2     TL    11441      1000000                  1       5899230   Paid  \n",
       "3     OL     1113       100000                  1       5899230   Paid  \n",
       "4     OL     1118       100000                  1       5899230   Paid  "
      ]
     },
     "execution_count": 148,
     "metadata": {},
     "output_type": "execute_result"
    }
   ],
   "source": [
    "donors_data.head()"
   ]
  },
  {
   "cell_type": "code",
   "execution_count": 149,
   "id": "1421f50c-a3ff-43c1-ad80-2be7bb21d1fe",
   "metadata": {},
   "outputs": [
    {
     "data": {
      "text/html": [
       "<div>\n",
       "<style scoped>\n",
       "    .dataframe tbody tr th:only-of-type {\n",
       "        vertical-align: middle;\n",
       "    }\n",
       "\n",
       "    .dataframe tbody tr th {\n",
       "        vertical-align: top;\n",
       "    }\n",
       "\n",
       "    .dataframe thead th {\n",
       "        text-align: right;\n",
       "    }\n",
       "</style>\n",
       "<table border=\"1\" class=\"dataframe\">\n",
       "  <thead>\n",
       "    <tr style=\"text-align: right;\">\n",
       "      <th></th>\n",
       "      <th>Sr No.</th>\n",
       "      <th>enchash_date</th>\n",
       "      <th>Name of the Political Party</th>\n",
       "      <th>Account no. of\\nPolitical Party</th>\n",
       "      <th>Prefix</th>\n",
       "      <th>bond_no</th>\n",
       "      <th>Denominations</th>\n",
       "      <th>branch_code</th>\n",
       "      <th>Pay Teller</th>\n",
       "    </tr>\n",
       "  </thead>\n",
       "  <tbody>\n",
       "    <tr>\n",
       "      <th>0</th>\n",
       "      <td>1</td>\n",
       "      <td>2019-04-12</td>\n",
       "      <td>ALL INDIA ANNA DRAVIDA MUNNETRA KAZHAGAM</td>\n",
       "      <td>*******5199</td>\n",
       "      <td>OC</td>\n",
       "      <td>775</td>\n",
       "      <td>10000000</td>\n",
       "      <td>800</td>\n",
       "      <td>2770121</td>\n",
       "    </tr>\n",
       "    <tr>\n",
       "      <th>1</th>\n",
       "      <td>2</td>\n",
       "      <td>2019-04-12</td>\n",
       "      <td>ALL INDIA ANNA DRAVIDA MUNNETRA KAZHAGAM</td>\n",
       "      <td>*******5199</td>\n",
       "      <td>OC</td>\n",
       "      <td>3975</td>\n",
       "      <td>10000000</td>\n",
       "      <td>800</td>\n",
       "      <td>2770121</td>\n",
       "    </tr>\n",
       "    <tr>\n",
       "      <th>2</th>\n",
       "      <td>3</td>\n",
       "      <td>2019-04-12</td>\n",
       "      <td>ALL INDIA ANNA DRAVIDA MUNNETRA KAZHAGAM</td>\n",
       "      <td>*******5199</td>\n",
       "      <td>OC</td>\n",
       "      <td>3967</td>\n",
       "      <td>10000000</td>\n",
       "      <td>800</td>\n",
       "      <td>2770121</td>\n",
       "    </tr>\n",
       "    <tr>\n",
       "      <th>3</th>\n",
       "      <td>4</td>\n",
       "      <td>2019-04-12</td>\n",
       "      <td>ALL INDIA ANNA DRAVIDA MUNNETRA KAZHAGAM</td>\n",
       "      <td>*******5199</td>\n",
       "      <td>TL</td>\n",
       "      <td>10418</td>\n",
       "      <td>1000000</td>\n",
       "      <td>800</td>\n",
       "      <td>2770121</td>\n",
       "    </tr>\n",
       "    <tr>\n",
       "      <th>4</th>\n",
       "      <td>5</td>\n",
       "      <td>2019-04-12</td>\n",
       "      <td>ALL INDIA ANNA DRAVIDA MUNNETRA KAZHAGAM</td>\n",
       "      <td>*******5199</td>\n",
       "      <td>TL</td>\n",
       "      <td>126</td>\n",
       "      <td>1000000</td>\n",
       "      <td>800</td>\n",
       "      <td>2770121</td>\n",
       "    </tr>\n",
       "  </tbody>\n",
       "</table>\n",
       "</div>"
      ],
      "text/plain": [
       "   Sr No. enchash_date               Name of the Political Party  \\\n",
       "0       1   2019-04-12  ALL INDIA ANNA DRAVIDA MUNNETRA KAZHAGAM   \n",
       "1       2   2019-04-12  ALL INDIA ANNA DRAVIDA MUNNETRA KAZHAGAM   \n",
       "2       3   2019-04-12  ALL INDIA ANNA DRAVIDA MUNNETRA KAZHAGAM   \n",
       "3       4   2019-04-12  ALL INDIA ANNA DRAVIDA MUNNETRA KAZHAGAM   \n",
       "4       5   2019-04-12  ALL INDIA ANNA DRAVIDA MUNNETRA KAZHAGAM   \n",
       "\n",
       "  Account no. of\\nPolitical Party Prefix  bond_no  Denominations  branch_code  \\\n",
       "0                     *******5199     OC      775       10000000          800   \n",
       "1                     *******5199     OC     3975       10000000          800   \n",
       "2                     *******5199     OC     3967       10000000          800   \n",
       "3                     *******5199     TL    10418        1000000          800   \n",
       "4                     *******5199     TL      126        1000000          800   \n",
       "\n",
       "   Pay Teller  \n",
       "0     2770121  \n",
       "1     2770121  \n",
       "2     2770121  \n",
       "3     2770121  \n",
       "4     2770121  "
      ]
     },
     "execution_count": 149,
     "metadata": {},
     "output_type": "execute_result"
    }
   ],
   "source": [
    "receiver_data.head()"
   ]
  },
  {
   "cell_type": "code",
   "execution_count": 150,
   "id": "be83f359-4033-4021-add7-dce945d4fbe6",
   "metadata": {},
   "outputs": [],
   "source": [
    "#joining 2 tables using inner join\n",
    "combined_data=pd.merge(donors_data,receiver_data,on=\"bond_no\",how=\"inner\")"
   ]
  },
  {
   "cell_type": "markdown",
   "id": "de77f7b0-f3e4-43d2-b2c8-e0c832a6d8d0",
   "metadata": {},
   "source": [
    "combined_data.head()"
   ]
  },
  {
   "cell_type": "code",
   "execution_count": 151,
   "id": "f3bbf7bc-0b7e-451c-9b3e-0f16537850f8",
   "metadata": {
    "scrolled": true
   },
   "outputs": [
    {
     "data": {
      "text/html": [
       "<div>\n",
       "<style scoped>\n",
       "    .dataframe tbody tr th:only-of-type {\n",
       "        vertical-align: middle;\n",
       "    }\n",
       "\n",
       "    .dataframe tbody tr th {\n",
       "        vertical-align: top;\n",
       "    }\n",
       "\n",
       "    .dataframe thead th {\n",
       "        text-align: right;\n",
       "    }\n",
       "</style>\n",
       "<table border=\"1\" class=\"dataframe\">\n",
       "  <thead>\n",
       "    <tr style=\"text-align: right;\">\n",
       "      <th></th>\n",
       "      <th>Sr No._x</th>\n",
       "      <th>Journal Date</th>\n",
       "      <th>purchase_date</th>\n",
       "      <th>Date of Expiry</th>\n",
       "      <th>Name of the Purchaser</th>\n",
       "      <th>Prefix_x</th>\n",
       "      <th>bond_no</th>\n",
       "      <th>bond_amount</th>\n",
       "      <th>Issue Branch Code</th>\n",
       "      <th>Issue Teller</th>\n",
       "      <th>Status</th>\n",
       "      <th>Sr No._y</th>\n",
       "      <th>enchash_date</th>\n",
       "      <th>Name of the Political Party</th>\n",
       "      <th>Account no. of\\nPolitical Party</th>\n",
       "      <th>Prefix_y</th>\n",
       "      <th>Denominations</th>\n",
       "      <th>branch_code</th>\n",
       "      <th>Pay Teller</th>\n",
       "    </tr>\n",
       "  </thead>\n",
       "  <tbody>\n",
       "    <tr>\n",
       "      <th>0</th>\n",
       "      <td>1</td>\n",
       "      <td>2019-04-12</td>\n",
       "      <td>2019-04-12</td>\n",
       "      <td>2019-04-26</td>\n",
       "      <td>A B C INDIA LIMITED</td>\n",
       "      <td>TL</td>\n",
       "      <td>11448</td>\n",
       "      <td>1000000</td>\n",
       "      <td>1</td>\n",
       "      <td>5899230</td>\n",
       "      <td>Paid</td>\n",
       "      <td>2766</td>\n",
       "      <td>2019-04-25</td>\n",
       "      <td>BHARATIYA JANATA PARTY</td>\n",
       "      <td>*******8244</td>\n",
       "      <td>TL</td>\n",
       "      <td>1000000</td>\n",
       "      <td>691</td>\n",
       "      <td>3300196</td>\n",
       "    </tr>\n",
       "    <tr>\n",
       "      <th>1</th>\n",
       "      <td>1</td>\n",
       "      <td>2019-04-12</td>\n",
       "      <td>2019-04-12</td>\n",
       "      <td>2019-04-26</td>\n",
       "      <td>A B C INDIA LIMITED</td>\n",
       "      <td>TL</td>\n",
       "      <td>11448</td>\n",
       "      <td>1000000</td>\n",
       "      <td>1</td>\n",
       "      <td>5899230</td>\n",
       "      <td>Paid</td>\n",
       "      <td>12752</td>\n",
       "      <td>2022-11-18</td>\n",
       "      <td>PRESIDENT, ALL INDIA CONGRESS COMMITTEE</td>\n",
       "      <td>*******4012</td>\n",
       "      <td>OC</td>\n",
       "      <td>10000000</td>\n",
       "      <td>691</td>\n",
       "      <td>8212066</td>\n",
       "    </tr>\n",
       "    <tr>\n",
       "      <th>2</th>\n",
       "      <td>11034</td>\n",
       "      <td>2022-11-15</td>\n",
       "      <td>2022-11-15</td>\n",
       "      <td>2022-11-29</td>\n",
       "      <td>IFB AGRO INDUSTRIES LIMITED</td>\n",
       "      <td>OC</td>\n",
       "      <td>11448</td>\n",
       "      <td>10000000</td>\n",
       "      <td>1</td>\n",
       "      <td>5054982</td>\n",
       "      <td>Paid</td>\n",
       "      <td>2766</td>\n",
       "      <td>2019-04-25</td>\n",
       "      <td>BHARATIYA JANATA PARTY</td>\n",
       "      <td>*******8244</td>\n",
       "      <td>TL</td>\n",
       "      <td>1000000</td>\n",
       "      <td>691</td>\n",
       "      <td>3300196</td>\n",
       "    </tr>\n",
       "    <tr>\n",
       "      <th>3</th>\n",
       "      <td>11034</td>\n",
       "      <td>2022-11-15</td>\n",
       "      <td>2022-11-15</td>\n",
       "      <td>2022-11-29</td>\n",
       "      <td>IFB AGRO INDUSTRIES LIMITED</td>\n",
       "      <td>OC</td>\n",
       "      <td>11448</td>\n",
       "      <td>10000000</td>\n",
       "      <td>1</td>\n",
       "      <td>5054982</td>\n",
       "      <td>Paid</td>\n",
       "      <td>12752</td>\n",
       "      <td>2022-11-18</td>\n",
       "      <td>PRESIDENT, ALL INDIA CONGRESS COMMITTEE</td>\n",
       "      <td>*******4012</td>\n",
       "      <td>OC</td>\n",
       "      <td>10000000</td>\n",
       "      <td>691</td>\n",
       "      <td>8212066</td>\n",
       "    </tr>\n",
       "    <tr>\n",
       "      <th>4</th>\n",
       "      <td>2</td>\n",
       "      <td>2019-04-12</td>\n",
       "      <td>2019-04-12</td>\n",
       "      <td>2019-04-26</td>\n",
       "      <td>A B C INDIA LIMITED</td>\n",
       "      <td>TL</td>\n",
       "      <td>11447</td>\n",
       "      <td>1000000</td>\n",
       "      <td>1</td>\n",
       "      <td>5899230</td>\n",
       "      <td>Paid</td>\n",
       "      <td>2767</td>\n",
       "      <td>2019-04-25</td>\n",
       "      <td>BHARATIYA JANATA PARTY</td>\n",
       "      <td>*******8244</td>\n",
       "      <td>TL</td>\n",
       "      <td>1000000</td>\n",
       "      <td>691</td>\n",
       "      <td>3300196</td>\n",
       "    </tr>\n",
       "    <tr>\n",
       "      <th>...</th>\n",
       "      <td>...</td>\n",
       "      <td>...</td>\n",
       "      <td>...</td>\n",
       "      <td>...</td>\n",
       "      <td>...</td>\n",
       "      <td>...</td>\n",
       "      <td>...</td>\n",
       "      <td>...</td>\n",
       "      <td>...</td>\n",
       "      <td>...</td>\n",
       "      <td>...</td>\n",
       "      <td>...</td>\n",
       "      <td>...</td>\n",
       "      <td>...</td>\n",
       "      <td>...</td>\n",
       "      <td>...</td>\n",
       "      <td>...</td>\n",
       "      <td>...</td>\n",
       "      <td>...</td>\n",
       "    </tr>\n",
       "    <tr>\n",
       "      <th>28772</th>\n",
       "      <td>18861</td>\n",
       "      <td>2024-01-11</td>\n",
       "      <td>2024-01-11</td>\n",
       "      <td>2024-01-25</td>\n",
       "      <td>WESTERN UP POWER TRANSMISSION COMPANY LI MITED</td>\n",
       "      <td>OC</td>\n",
       "      <td>17091</td>\n",
       "      <td>10000000</td>\n",
       "      <td>847</td>\n",
       "      <td>6458726</td>\n",
       "      <td>Paid</td>\n",
       "      <td>20094</td>\n",
       "      <td>2024-01-16</td>\n",
       "      <td>TELUGU DESAM PARTY</td>\n",
       "      <td>*******3067</td>\n",
       "      <td>OC</td>\n",
       "      <td>10000000</td>\n",
       "      <td>847</td>\n",
       "      <td>6391354</td>\n",
       "    </tr>\n",
       "    <tr>\n",
       "      <th>28773</th>\n",
       "      <td>18862</td>\n",
       "      <td>2024-01-11</td>\n",
       "      <td>2024-01-11</td>\n",
       "      <td>2024-01-25</td>\n",
       "      <td>WESTERN UP POWER TRANSMISSION COMPANY LI MITED</td>\n",
       "      <td>OC</td>\n",
       "      <td>17087</td>\n",
       "      <td>10000000</td>\n",
       "      <td>847</td>\n",
       "      <td>6458726</td>\n",
       "      <td>Paid</td>\n",
       "      <td>20095</td>\n",
       "      <td>2024-01-16</td>\n",
       "      <td>TELUGU DESAM PARTY</td>\n",
       "      <td>*******3067</td>\n",
       "      <td>OC</td>\n",
       "      <td>10000000</td>\n",
       "      <td>847</td>\n",
       "      <td>6391354</td>\n",
       "    </tr>\n",
       "    <tr>\n",
       "      <th>28774</th>\n",
       "      <td>18863</td>\n",
       "      <td>2024-01-11</td>\n",
       "      <td>2024-01-11</td>\n",
       "      <td>2024-01-25</td>\n",
       "      <td>WESTERN UP POWER TRANSMISSION COMPANY LI MITED</td>\n",
       "      <td>OC</td>\n",
       "      <td>17065</td>\n",
       "      <td>10000000</td>\n",
       "      <td>847</td>\n",
       "      <td>6458726</td>\n",
       "      <td>Paid</td>\n",
       "      <td>20096</td>\n",
       "      <td>2024-01-16</td>\n",
       "      <td>TELUGU DESAM PARTY</td>\n",
       "      <td>*******3067</td>\n",
       "      <td>OC</td>\n",
       "      <td>10000000</td>\n",
       "      <td>847</td>\n",
       "      <td>6391354</td>\n",
       "    </tr>\n",
       "    <tr>\n",
       "      <th>28775</th>\n",
       "      <td>18864</td>\n",
       "      <td>2024-01-11</td>\n",
       "      <td>2024-01-11</td>\n",
       "      <td>2024-01-25</td>\n",
       "      <td>WESTWELL GASES PRIVATE LIMITED</td>\n",
       "      <td>OC</td>\n",
       "      <td>17801</td>\n",
       "      <td>10000000</td>\n",
       "      <td>1</td>\n",
       "      <td>5898161</td>\n",
       "      <td>Paid</td>\n",
       "      <td>20397</td>\n",
       "      <td>2024-01-23</td>\n",
       "      <td>DRAVIDA MUNNETRA KAZHAGAM (DMK)</td>\n",
       "      <td>*******8935</td>\n",
       "      <td>OC</td>\n",
       "      <td>10000000</td>\n",
       "      <td>800</td>\n",
       "      <td>1011942</td>\n",
       "    </tr>\n",
       "    <tr>\n",
       "      <th>28776</th>\n",
       "      <td>18870</td>\n",
       "      <td>2024-01-11</td>\n",
       "      <td>2024-01-11</td>\n",
       "      <td>2024-01-25</td>\n",
       "      <td>WESTWELL GASES PRIVATE LIMITED</td>\n",
       "      <td>OC</td>\n",
       "      <td>17803</td>\n",
       "      <td>10000000</td>\n",
       "      <td>1</td>\n",
       "      <td>5898161</td>\n",
       "      <td>Paid</td>\n",
       "      <td>20403</td>\n",
       "      <td>2024-01-23</td>\n",
       "      <td>DRAVIDA MUNNETRA KAZHAGAM (DMK)</td>\n",
       "      <td>*******8935</td>\n",
       "      <td>OC</td>\n",
       "      <td>10000000</td>\n",
       "      <td>800</td>\n",
       "      <td>1011942</td>\n",
       "    </tr>\n",
       "  </tbody>\n",
       "</table>\n",
       "<p>28777 rows × 19 columns</p>\n",
       "</div>"
      ],
      "text/plain": [
       "       Sr No._x Journal Date purchase_date Date of Expiry  \\\n",
       "0             1   2019-04-12    2019-04-12     2019-04-26   \n",
       "1             1   2019-04-12    2019-04-12     2019-04-26   \n",
       "2         11034   2022-11-15    2022-11-15     2022-11-29   \n",
       "3         11034   2022-11-15    2022-11-15     2022-11-29   \n",
       "4             2   2019-04-12    2019-04-12     2019-04-26   \n",
       "...         ...          ...           ...            ...   \n",
       "28772     18861   2024-01-11    2024-01-11     2024-01-25   \n",
       "28773     18862   2024-01-11    2024-01-11     2024-01-25   \n",
       "28774     18863   2024-01-11    2024-01-11     2024-01-25   \n",
       "28775     18864   2024-01-11    2024-01-11     2024-01-25   \n",
       "28776     18870   2024-01-11    2024-01-11     2024-01-25   \n",
       "\n",
       "                                Name of the Purchaser Prefix_x  bond_no  \\\n",
       "0                                 A B C INDIA LIMITED       TL    11448   \n",
       "1                                 A B C INDIA LIMITED       TL    11448   \n",
       "2                         IFB AGRO INDUSTRIES LIMITED       OC    11448   \n",
       "3                         IFB AGRO INDUSTRIES LIMITED       OC    11448   \n",
       "4                                 A B C INDIA LIMITED       TL    11447   \n",
       "...                                               ...      ...      ...   \n",
       "28772  WESTERN UP POWER TRANSMISSION COMPANY LI MITED       OC    17091   \n",
       "28773  WESTERN UP POWER TRANSMISSION COMPANY LI MITED       OC    17087   \n",
       "28774  WESTERN UP POWER TRANSMISSION COMPANY LI MITED       OC    17065   \n",
       "28775                  WESTWELL GASES PRIVATE LIMITED       OC    17801   \n",
       "28776                  WESTWELL GASES PRIVATE LIMITED       OC    17803   \n",
       "\n",
       "       bond_amount  Issue Branch Code  Issue Teller Status  Sr No._y  \\\n",
       "0          1000000                  1       5899230   Paid      2766   \n",
       "1          1000000                  1       5899230   Paid     12752   \n",
       "2         10000000                  1       5054982   Paid      2766   \n",
       "3         10000000                  1       5054982   Paid     12752   \n",
       "4          1000000                  1       5899230   Paid      2767   \n",
       "...            ...                ...           ...    ...       ...   \n",
       "28772     10000000                847       6458726   Paid     20094   \n",
       "28773     10000000                847       6458726   Paid     20095   \n",
       "28774     10000000                847       6458726   Paid     20096   \n",
       "28775     10000000                  1       5898161   Paid     20397   \n",
       "28776     10000000                  1       5898161   Paid     20403   \n",
       "\n",
       "      enchash_date              Name of the Political Party  \\\n",
       "0       2019-04-25                   BHARATIYA JANATA PARTY   \n",
       "1       2022-11-18  PRESIDENT, ALL INDIA CONGRESS COMMITTEE   \n",
       "2       2019-04-25                   BHARATIYA JANATA PARTY   \n",
       "3       2022-11-18  PRESIDENT, ALL INDIA CONGRESS COMMITTEE   \n",
       "4       2019-04-25                   BHARATIYA JANATA PARTY   \n",
       "...            ...                                      ...   \n",
       "28772   2024-01-16                       TELUGU DESAM PARTY   \n",
       "28773   2024-01-16                       TELUGU DESAM PARTY   \n",
       "28774   2024-01-16                       TELUGU DESAM PARTY   \n",
       "28775   2024-01-23          DRAVIDA MUNNETRA KAZHAGAM (DMK)   \n",
       "28776   2024-01-23          DRAVIDA MUNNETRA KAZHAGAM (DMK)   \n",
       "\n",
       "      Account no. of\\nPolitical Party Prefix_y  Denominations  branch_code  \\\n",
       "0                         *******8244       TL        1000000          691   \n",
       "1                         *******4012       OC       10000000          691   \n",
       "2                         *******8244       TL        1000000          691   \n",
       "3                         *******4012       OC       10000000          691   \n",
       "4                         *******8244       TL        1000000          691   \n",
       "...                               ...      ...            ...          ...   \n",
       "28772                     *******3067       OC       10000000          847   \n",
       "28773                     *******3067       OC       10000000          847   \n",
       "28774                     *******3067       OC       10000000          847   \n",
       "28775                     *******8935       OC       10000000          800   \n",
       "28776                     *******8935       OC       10000000          800   \n",
       "\n",
       "       Pay Teller  \n",
       "0         3300196  \n",
       "1         8212066  \n",
       "2         3300196  \n",
       "3         8212066  \n",
       "4         3300196  \n",
       "...           ...  \n",
       "28772     6391354  \n",
       "28773     6391354  \n",
       "28774     6391354  \n",
       "28775     1011942  \n",
       "28776     1011942  \n",
       "\n",
       "[28777 rows x 19 columns]"
      ]
     },
     "execution_count": 151,
     "metadata": {},
     "output_type": "execute_result"
    }
   ],
   "source": [
    "combined_data"
   ]
  },
  {
   "cell_type": "code",
   "execution_count": 152,
   "id": "a91d461c-f622-49fe-aa88-6a345e9dec55",
   "metadata": {},
   "outputs": [
    {
     "data": {
      "text/plain": [
       "Index(['Sr No._x', 'Journal Date', 'purchase_date', 'Date of Expiry',\n",
       "       'Name of the Purchaser', 'Prefix_x', 'bond_no', 'bond_amount',\n",
       "       'Issue Branch Code', 'Issue Teller', 'Status', 'Sr No._y',\n",
       "       'enchash_date', 'Name of the Political Party',\n",
       "       'Account no. of\\nPolitical Party', 'Prefix_y', 'Denominations',\n",
       "       'branch_code', 'Pay Teller'],\n",
       "      dtype='object')"
      ]
     },
     "execution_count": 152,
     "metadata": {},
     "output_type": "execute_result"
    }
   ],
   "source": [
    "combined_data.columns"
   ]
  },
  {
   "cell_type": "code",
   "execution_count": 153,
   "id": "b9cce998-372e-46b3-a9d3-1df2e880b86d",
   "metadata": {},
   "outputs": [],
   "source": [
    "corr_info=combined_data[['Name of the Purchaser','bond_no','bond_amount','Name of the Political Party']]"
   ]
  },
  {
   "cell_type": "code",
   "execution_count": 154,
   "id": "e8d3c7cd-6579-4ec8-8beb-54faacf14006",
   "metadata": {},
   "outputs": [
    {
     "data": {
      "text/html": [
       "<div>\n",
       "<style scoped>\n",
       "    .dataframe tbody tr th:only-of-type {\n",
       "        vertical-align: middle;\n",
       "    }\n",
       "\n",
       "    .dataframe tbody tr th {\n",
       "        vertical-align: top;\n",
       "    }\n",
       "\n",
       "    .dataframe thead th {\n",
       "        text-align: right;\n",
       "    }\n",
       "</style>\n",
       "<table border=\"1\" class=\"dataframe\">\n",
       "  <thead>\n",
       "    <tr style=\"text-align: right;\">\n",
       "      <th></th>\n",
       "      <th>Name of the Purchaser</th>\n",
       "      <th>bond_no</th>\n",
       "      <th>bond_amount</th>\n",
       "      <th>Name of the Political Party</th>\n",
       "    </tr>\n",
       "  </thead>\n",
       "  <tbody>\n",
       "    <tr>\n",
       "      <th>0</th>\n",
       "      <td>A B C INDIA LIMITED</td>\n",
       "      <td>11448</td>\n",
       "      <td>1000000</td>\n",
       "      <td>BHARATIYA JANATA PARTY</td>\n",
       "    </tr>\n",
       "    <tr>\n",
       "      <th>1</th>\n",
       "      <td>A B C INDIA LIMITED</td>\n",
       "      <td>11448</td>\n",
       "      <td>1000000</td>\n",
       "      <td>PRESIDENT, ALL INDIA CONGRESS COMMITTEE</td>\n",
       "    </tr>\n",
       "    <tr>\n",
       "      <th>2</th>\n",
       "      <td>IFB AGRO INDUSTRIES LIMITED</td>\n",
       "      <td>11448</td>\n",
       "      <td>10000000</td>\n",
       "      <td>BHARATIYA JANATA PARTY</td>\n",
       "    </tr>\n",
       "    <tr>\n",
       "      <th>3</th>\n",
       "      <td>IFB AGRO INDUSTRIES LIMITED</td>\n",
       "      <td>11448</td>\n",
       "      <td>10000000</td>\n",
       "      <td>PRESIDENT, ALL INDIA CONGRESS COMMITTEE</td>\n",
       "    </tr>\n",
       "    <tr>\n",
       "      <th>4</th>\n",
       "      <td>A B C INDIA LIMITED</td>\n",
       "      <td>11447</td>\n",
       "      <td>1000000</td>\n",
       "      <td>BHARATIYA JANATA PARTY</td>\n",
       "    </tr>\n",
       "  </tbody>\n",
       "</table>\n",
       "</div>"
      ],
      "text/plain": [
       "         Name of the Purchaser  bond_no  bond_amount  \\\n",
       "0          A B C INDIA LIMITED    11448      1000000   \n",
       "1          A B C INDIA LIMITED    11448      1000000   \n",
       "2  IFB AGRO INDUSTRIES LIMITED    11448     10000000   \n",
       "3  IFB AGRO INDUSTRIES LIMITED    11448     10000000   \n",
       "4          A B C INDIA LIMITED    11447      1000000   \n",
       "\n",
       "               Name of the Political Party  \n",
       "0                   BHARATIYA JANATA PARTY  \n",
       "1  PRESIDENT, ALL INDIA CONGRESS COMMITTEE  \n",
       "2                   BHARATIYA JANATA PARTY  \n",
       "3  PRESIDENT, ALL INDIA CONGRESS COMMITTEE  \n",
       "4                   BHARATIYA JANATA PARTY  "
      ]
     },
     "execution_count": 154,
     "metadata": {},
     "output_type": "execute_result"
    }
   ],
   "source": [
    "corr_info.head()"
   ]
  },
  {
   "cell_type": "code",
   "execution_count": 155,
   "id": "bfb860b6-eed6-4eb7-9e67-a8d15d9ab567",
   "metadata": {},
   "outputs": [],
   "source": [
    "# top donors of BJP\n",
    "bjp_data=corr_info[corr_info['Name of the Political Party']==\"BHARATIYA JANATA PARTY\"]"
   ]
  },
  {
   "cell_type": "code",
   "execution_count": 156,
   "id": "ee734dd5-5412-4265-9e19-ad157eb77580",
   "metadata": {},
   "outputs": [
    {
     "data": {
      "text/html": [
       "<div>\n",
       "<style scoped>\n",
       "    .dataframe tbody tr th:only-of-type {\n",
       "        vertical-align: middle;\n",
       "    }\n",
       "\n",
       "    .dataframe tbody tr th {\n",
       "        vertical-align: top;\n",
       "    }\n",
       "\n",
       "    .dataframe thead th {\n",
       "        text-align: right;\n",
       "    }\n",
       "</style>\n",
       "<table border=\"1\" class=\"dataframe\">\n",
       "  <thead>\n",
       "    <tr style=\"text-align: right;\">\n",
       "      <th></th>\n",
       "      <th>Name of the Purchaser</th>\n",
       "      <th>bond_no</th>\n",
       "      <th>bond_amount</th>\n",
       "      <th>Name of the Political Party</th>\n",
       "    </tr>\n",
       "  </thead>\n",
       "  <tbody>\n",
       "    <tr>\n",
       "      <th>0</th>\n",
       "      <td>A B C INDIA LIMITED</td>\n",
       "      <td>11448</td>\n",
       "      <td>1000000</td>\n",
       "      <td>BHARATIYA JANATA PARTY</td>\n",
       "    </tr>\n",
       "    <tr>\n",
       "      <th>2</th>\n",
       "      <td>IFB AGRO INDUSTRIES LIMITED</td>\n",
       "      <td>11448</td>\n",
       "      <td>10000000</td>\n",
       "      <td>BHARATIYA JANATA PARTY</td>\n",
       "    </tr>\n",
       "    <tr>\n",
       "      <th>4</th>\n",
       "      <td>A B C INDIA LIMITED</td>\n",
       "      <td>11447</td>\n",
       "      <td>1000000</td>\n",
       "      <td>BHARATIYA JANATA PARTY</td>\n",
       "    </tr>\n",
       "    <tr>\n",
       "      <th>6</th>\n",
       "      <td>WESTWELL GASES PRIVATE LIMITED</td>\n",
       "      <td>11447</td>\n",
       "      <td>10000000</td>\n",
       "      <td>BHARATIYA JANATA PARTY</td>\n",
       "    </tr>\n",
       "    <tr>\n",
       "      <th>8</th>\n",
       "      <td>A B C INDIA LIMITED</td>\n",
       "      <td>11441</td>\n",
       "      <td>1000000</td>\n",
       "      <td>BHARATIYA JANATA PARTY</td>\n",
       "    </tr>\n",
       "  </tbody>\n",
       "</table>\n",
       "</div>"
      ],
      "text/plain": [
       "            Name of the Purchaser  bond_no  bond_amount  \\\n",
       "0             A B C INDIA LIMITED    11448      1000000   \n",
       "2     IFB AGRO INDUSTRIES LIMITED    11448     10000000   \n",
       "4             A B C INDIA LIMITED    11447      1000000   \n",
       "6  WESTWELL GASES PRIVATE LIMITED    11447     10000000   \n",
       "8             A B C INDIA LIMITED    11441      1000000   \n",
       "\n",
       "  Name of the Political Party  \n",
       "0      BHARATIYA JANATA PARTY  \n",
       "2      BHARATIYA JANATA PARTY  \n",
       "4      BHARATIYA JANATA PARTY  \n",
       "6      BHARATIYA JANATA PARTY  \n",
       "8      BHARATIYA JANATA PARTY  "
      ]
     },
     "execution_count": 156,
     "metadata": {},
     "output_type": "execute_result"
    }
   ],
   "source": [
    "bjp_data.head()"
   ]
  },
  {
   "cell_type": "code",
   "execution_count": 157,
   "id": "f0b753e3-0fd9-4027-982f-189c427c6d1f",
   "metadata": {},
   "outputs": [
    {
     "data": {
      "text/plain": [
       "(11527, 4)"
      ]
     },
     "execution_count": 157,
     "metadata": {},
     "output_type": "execute_result"
    }
   ],
   "source": [
    "bjp_data.shape"
   ]
  },
  {
   "cell_type": "code",
   "execution_count": 158,
   "id": "a48281ba-2044-4ab2-989a-4c9e6887faa3",
   "metadata": {},
   "outputs": [],
   "source": [
    "grouped_data=bjp_data.groupby('Name of the Purchaser')['bond_amount'].sum()"
   ]
  },
  {
   "cell_type": "code",
   "execution_count": 159,
   "id": "17a1e985-fd46-47db-a589-8ff55a3ca782",
   "metadata": {},
   "outputs": [],
   "source": [
    "top_5_bjp_donors=grouped_data.sort_values(ascending=False).head()"
   ]
  },
  {
   "cell_type": "code",
   "execution_count": 160,
   "id": "49b81143-9f30-47d7-8ca6-0e8be1d550b0",
   "metadata": {},
   "outputs": [
    {
     "data": {
      "text/plain": [
       "Name of the Purchaser\n",
       "MEGHA ENGINEERING AND INFRASTRUCTURES LI MITED    6010000000\n",
       "QWIKSUPPLYCHAINPRIVATELIMITED                     5640000000\n",
       "VEDANTA LIMITED                                   3229500000\n",
       "BHARTI AIRTEL LIMITED                             1860000000\n",
       "MADANLAL LTD.                                     1820000000\n",
       "Name: bond_amount, dtype: int64"
      ]
     },
     "execution_count": 160,
     "metadata": {},
     "output_type": "execute_result"
    }
   ],
   "source": [
    "top_5_bjp_donors"
   ]
  },
  {
   "cell_type": "code",
   "execution_count": 161,
   "id": "dfade109-3c3a-4a97-b572-c1a0817e4a79",
   "metadata": {},
   "outputs": [],
   "source": [
    "top_5_bjp_donors=top_5_bjp_donors.reset_index()"
   ]
  },
  {
   "cell_type": "code",
   "execution_count": 162,
   "id": "a7e22373-31f5-4217-97ac-5c69333a0211",
   "metadata": {},
   "outputs": [
    {
     "data": {
      "text/html": [
       "<div>\n",
       "<style scoped>\n",
       "    .dataframe tbody tr th:only-of-type {\n",
       "        vertical-align: middle;\n",
       "    }\n",
       "\n",
       "    .dataframe tbody tr th {\n",
       "        vertical-align: top;\n",
       "    }\n",
       "\n",
       "    .dataframe thead th {\n",
       "        text-align: right;\n",
       "    }\n",
       "</style>\n",
       "<table border=\"1\" class=\"dataframe\">\n",
       "  <thead>\n",
       "    <tr style=\"text-align: right;\">\n",
       "      <th></th>\n",
       "      <th>Name of the Purchaser</th>\n",
       "      <th>bond_amount</th>\n",
       "    </tr>\n",
       "  </thead>\n",
       "  <tbody>\n",
       "    <tr>\n",
       "      <th>0</th>\n",
       "      <td>MEGHA ENGINEERING AND INFRASTRUCTURES LI MITED</td>\n",
       "      <td>6010000000</td>\n",
       "    </tr>\n",
       "    <tr>\n",
       "      <th>1</th>\n",
       "      <td>QWIKSUPPLYCHAINPRIVATELIMITED</td>\n",
       "      <td>5640000000</td>\n",
       "    </tr>\n",
       "    <tr>\n",
       "      <th>2</th>\n",
       "      <td>VEDANTA LIMITED</td>\n",
       "      <td>3229500000</td>\n",
       "    </tr>\n",
       "    <tr>\n",
       "      <th>3</th>\n",
       "      <td>BHARTI AIRTEL LIMITED</td>\n",
       "      <td>1860000000</td>\n",
       "    </tr>\n",
       "    <tr>\n",
       "      <th>4</th>\n",
       "      <td>MADANLAL LTD.</td>\n",
       "      <td>1820000000</td>\n",
       "    </tr>\n",
       "  </tbody>\n",
       "</table>\n",
       "</div>"
      ],
      "text/plain": [
       "                            Name of the Purchaser  bond_amount\n",
       "0  MEGHA ENGINEERING AND INFRASTRUCTURES LI MITED   6010000000\n",
       "1                   QWIKSUPPLYCHAINPRIVATELIMITED   5640000000\n",
       "2                                 VEDANTA LIMITED   3229500000\n",
       "3                           BHARTI AIRTEL LIMITED   1860000000\n",
       "4                                   MADANLAL LTD.   1820000000"
      ]
     },
     "execution_count": 162,
     "metadata": {},
     "output_type": "execute_result"
    }
   ],
   "source": [
    "top_5_bjp_donors"
   ]
  },
  {
   "cell_type": "code",
   "execution_count": 163,
   "id": "9dd12493-4dee-48d4-8810-6211c3b1ba00",
   "metadata": {},
   "outputs": [],
   "source": [
    "top_5_bjp_donors.to_csv(r\"top_5_bjp_donors.csv\")"
   ]
  },
  {
   "cell_type": "code",
   "execution_count": 164,
   "id": "76714549-81f6-4350-856f-9bea265d6159",
   "metadata": {},
   "outputs": [],
   "source": [
    "unique_bond_no_in_receiver_data=receiver_data['bond_no'].unique()"
   ]
  },
  {
   "cell_type": "code",
   "execution_count": 165,
   "id": "ad937299-cbd5-4919-9d59-637f59e1cad2",
   "metadata": {},
   "outputs": [],
   "source": [
    "unique_bond_no_in_receiver_data=list(unique_bond_no_in_receiver_data)"
   ]
  },
  {
   "cell_type": "code",
   "execution_count": 166,
   "id": "6141bb7a-b54e-4c59-a64f-6c62790224e2",
   "metadata": {},
   "outputs": [],
   "source": [
    "unique_bond_no_in_donors_data=donors_data['bond_no'].unique()"
   ]
  },
  {
   "cell_type": "code",
   "execution_count": 167,
   "id": "02073ff7-03d6-4ee2-b0e4-9f4d6cec791e",
   "metadata": {},
   "outputs": [],
   "source": [
    "unique_bond_no_in_donors_data=list(unique_bond_no_in_donors_data)"
   ]
  },
  {
   "cell_type": "code",
   "execution_count": 168,
   "id": "df8a90e3-6831-497d-b0e2-5164f6467fd8",
   "metadata": {},
   "outputs": [],
   "source": [
    "difference = set(unique_bond_no_in_receiver_data)-set(unique_bond_no_in_donors_data)"
   ]
  },
  {
   "cell_type": "code",
   "execution_count": 194,
   "id": "3404c976-103a-40ea-9d20-968a8b59104d",
   "metadata": {},
   "outputs": [
    {
     "name": "stdout",
     "output_type": "stream",
     "text": [
      "{23610, 23611, 23612, 4112, 4114, 23613, 4116, 4118, 4120, 4122, 4124, 23615, 4126, 4128, 4130, 4132, 4134, 4136, 2092, 2094, 2096, 4145, 2098, 4147, 2100, 4149, 2102, 2104, 6201, 2106, 6202, 2108, 6203, 2110, 6204, 2112, 6205, 2114, 6206, 2116, 6207, 2118, 6208, 2120, 2121, 2122, 75, 2123, 2124, 78, 2125, 2126, 2127, 2128, 83, 2129, 2131, 2133, 2134, 88, 2137, 2135, 2139, 2138, 2141, 2142, 2143, 93, 2145, 97, 2147, 2148, 2149, 2150, 103, 2144, 2146, 2154, 2152, 108, 2156, 110, 4201, 4203, 113, 4205, 4207, 116, 4209, 118, 4211, 120, 4213, 122, 4215, 124, 4217, 126, 4219, 128, 4221, 4223, 131, 4225, 4227, 4229, 4231, 6276, 4233, 6277, 4235, 23636, 4237, 142, 4239, 23637, 23638, 23639, 23640, 158, 160, 162, 164, 168, 174, 4271, 4272, 4273, 4274, 179, 4276, 4277, 187, 4287, 4289, 4291, 4293, 4295, 4297, 4299, 4301, 4303, 4305, 4307, 4309, 4311, 4312, 4313, 4314, 4315, 4316, 4317, 4318, 4319, 4320, 4321, 4322, 4323, 4325, 4327, 4329, 4330, 4331, 4332, 4333, 4334, 4335, 4336, 4337, 4338, 4339, 4340, 4341, 4342, 4343, 4344, 4345, 4346, 4347, 4348, 4349, 4350, 2342, 2362, 2364, 2366, 2368, 2370, 4432, 4433, 23622, 4452, 23625, 23623, 6662, 4488, 23624, 4508, 4511, 4512, 4513, 4514, 4515, 4516, 4517, 4518, 4519, 4520, 4521, 4522, 4523, 4524, 4525, 4526, 4527, 4528, 4529, 4530, 4531, 4532, 4533, 4534, 4535, 4536, 4537, 4538, 4539, 4540, 4541, 4542, 4543, 4544, 4545, 4546, 23626, 4548, 4549, 4550, 23628, 6603, 6605, 6607, 4561, 6609, 6611, 6613, 6615, 6617, 23627, 6619, 2130, 4574, 4575, 6621, 6623, 6625, 6626, 6627, 6628, 4582, 2132, 4583, 4584, 4585, 6629, 6631, 6633, 6634, 6635, 4592, 4593, 4594, 4595, 6636, 6637, 6638, 6639, 6640, 4601, 4602, 2136, 4603, 6644, 6645, 6646, 6647, 6648, 6649, 6650, 6651, 6652, 6653, 6654, 6209, 6656, 6657, 6658, 6659, 6210, 6661, 2140, 6663, 6664, 6211, 6666, 6667, 6668, 6669, 6212, 6671, 6672, 2586, 6675, 2588, 6213, 6677, 6679, 2592, 2593, 2594, 2595, 6214, 2597, 2598, 2599, 2600, 6215, 23630, 6216, 2606, 6217, 2609, 2611, 2613, 6218, 2617, 2618, 6219, 23629, 23631, 6220, 6221, 583, 584, 585, 586, 587, 6222, 6223, 2643, 6224, 23632, 6225, 6226, 2654, 4191, 6227, 6228, 6229, 23633, 6230, 6231, 6232, 6233, 6234, 6641, 23634, 6235, 6642, 2702, 6236, 2704, 6643, 2706, 2708, 2709, 2710, 2711, 2712, 6237, 2714, 6238, 6239, 23635, 6240, 6241, 6242, 6243, 6244, 6245, 6246, 6247, 6655, 6248, 6249, 6250, 727, 734, 737, 739, 740, 741, 742, 6660, 744, 2792, 746, 2793, 748, 2794, 750, 751, 2796, 753, 2798, 755, 2800, 757, 2801, 759, 760, 2803, 2805, 2807, 2809, 2810, 766, 6665, 768, 770, 772, 774, 775, 776, 2825, 778, 2827, 780, 2829, 2831, 2833, 2836, 2837, 2838, 6670, 2840, 2842, 2844, 2846, 2848, 2849, 2850, 2851, 2852, 2853, 2854, 6673, 6681, 876, 880, 883, 886, 888, 890, 892, 894, 896, 898, 900, 902, 904, 906, 908, 910, 912, 914, 916, 918, 920, 922, 924, 926, 928, 930, 932, 934, 936, 938, 940, 942, 944, 946, 948, 950, 952, 954, 956, 958, 3053, 5101, 3055, 3056, 3057, 5102, 3059, 3060, 5103, 1014, 3063, 3064, 1015, 3066, 3067, 3068, 1016, 1017, 1018, 3072, 3073, 3074, 3075, 3076, 3077, 3078, 3079, 3080, 3081, 1034, 3082, 1036, 1037, 1038, 3083, 1040, 1041, 3085, 3087, 3090, 1045, 3092, 1047, 3094, 3088, 3089, 3099, 3100, 3101, 3093, 3095, 3096, 3097, 3106, 3098, 3108, 3102, 3103, 3104, 3105, 3107, 3109, 3110, 3111, 3112, 3113, 3114, 3115, 3116, 3117, 3118, 3119, 3120, 3062, 3121, 3122, 3123, 3124, 3125, 3126, 3131, 3132, 3133, 3134, 3135, 3136, 3137, 3138, 3139, 3140, 23614, 5192, 23616, 23617, 23618, 23619, 23620, 23621, 3151, 3152, 3069, 3153, 3154, 3155, 3156, 3157, 3158, 3159, 3160, 5105, 3071, 5106, 5211, 5212, 5107, 5213, 5214, 5215, 3171, 3172, 3173, 3174, 3175, 3176, 3177, 3178, 5108, 5109, 5110, 5251, 5252, 5253, 5254, 5255, 5257, 5258, 5259, 3084, 5121, 3086, 5122, 5123, 1019, 5124, 5125, 5126, 3091, 5127, 5128, 5129, 5130, 5353, 5361, 5141, 5142, 5143, 5144, 5145, 5408, 5146, 5412, 5147, 5148, 5149, 5150, 5151, 5152, 5153, 3401, 3402, 3403, 3404, 3405, 3406, 5154, 3408, 5155, 5450, 5451, 5453, 5454, 5156, 5455, 5457, 5458, 5459, 5157, 5460, 5462, 5463, 5464, 5158, 5466, 5467, 5468, 5470, 5159, 5471, 5472, 5474, 5475, 5160, 5165, 5166, 5167, 5168, 5104, 5169, 5170, 5173, 67001, 5181, 5702, 5704, 5707, 5708, 5709, 5711, 5712, 5714, 1621, 5717, 5720, 5722, 1627, 3676, 5723, 5724, 3679, 3680, 1633, 3681, 3682, 1636, 5728, 1638, 5731, 1640, 5734, 1642, 5737, 1644, 5740, 1646, 5742, 1648, 5745, 1654, 5750, 1656, 1658, 1660, 1663, 5216, 5801, 5802, 5803, 5804, 5805, 5806, 5807, 5808, 5809, 5810, 5811, 5812, 5813, 5814, 5815, 5816, 5817, 5818, 5819, 5820, 5821, 5822, 5823, 5824, 5825, 5826, 5827, 5828, 5829, 5830, 5831, 5832, 5833, 5834, 5835, 5836, 5837, 5838, 5839, 5840, 5841, 5842, 5843, 5844, 5845, 5846, 5847, 5848, 5849, 5850, 5851, 5852, 5853, 5854, 5855, 5856, 5857, 5858, 5859, 5860, 5861, 5862, 5863, 5864, 5865, 5866, 5867, 5868, 5869, 5870, 5871, 5872, 5873, 5874, 5875, 5882, 5885, 5886, 5888, 5890, 5892, 5894, 5896, 3967, 3975, 6026, 6027, 6028, 6029, 6030, 6031, 6032, 6033, 6034, 6035, 1991, 1998, 1999, 2000, 23601, 23602, 23603, 23604, 23605, 23606, 23607, 23608, 23609} \n"
     ]
    }
   ],
   "source": [
    "print(difference, \"\")"
   ]
  },
  {
   "cell_type": "code",
   "execution_count": 170,
   "id": "2049c145-665e-474f-8160-01fb65511c3a",
   "metadata": {},
   "outputs": [
    {
     "data": {
      "text/plain": [
       "set"
      ]
     },
     "execution_count": 170,
     "metadata": {},
     "output_type": "execute_result"
    }
   ],
   "source": [
    "type(difference)"
   ]
  },
  {
   "cell_type": "code",
   "execution_count": 171,
   "id": "73cc399c-ee62-455b-847b-18fe0eb42af0",
   "metadata": {},
   "outputs": [],
   "source": [
    "bond_match_not_found=list(difference)"
   ]
  },
  {
   "cell_type": "code",
   "execution_count": 172,
   "id": "7ceb0337-fa79-4c5f-be46-6b697ca34171",
   "metadata": {},
   "outputs": [],
   "source": [
    "match_not_found_in_donor=receiver_data[receiver_data['bond_no'].isin(difference)]"
   ]
  },
  {
   "cell_type": "code",
   "execution_count": 173,
   "id": "73d2ff61-13f6-4644-ae0c-c9e14b8eff3f",
   "metadata": {},
   "outputs": [
    {
     "data": {
      "text/html": [
       "<div>\n",
       "<style scoped>\n",
       "    .dataframe tbody tr th:only-of-type {\n",
       "        vertical-align: middle;\n",
       "    }\n",
       "\n",
       "    .dataframe tbody tr th {\n",
       "        vertical-align: top;\n",
       "    }\n",
       "\n",
       "    .dataframe thead th {\n",
       "        text-align: right;\n",
       "    }\n",
       "</style>\n",
       "<table border=\"1\" class=\"dataframe\">\n",
       "  <thead>\n",
       "    <tr style=\"text-align: right;\">\n",
       "      <th></th>\n",
       "      <th>Sr No.</th>\n",
       "      <th>enchash_date</th>\n",
       "      <th>Name of the Political Party</th>\n",
       "      <th>Account no. of\\nPolitical Party</th>\n",
       "      <th>Prefix</th>\n",
       "      <th>bond_no</th>\n",
       "      <th>Denominations</th>\n",
       "      <th>branch_code</th>\n",
       "      <th>Pay Teller</th>\n",
       "    </tr>\n",
       "  </thead>\n",
       "  <tbody>\n",
       "    <tr>\n",
       "      <th>0</th>\n",
       "      <td>1</td>\n",
       "      <td>2019-04-12</td>\n",
       "      <td>ALL INDIA ANNA DRAVIDA MUNNETRA KAZHAGAM</td>\n",
       "      <td>*******5199</td>\n",
       "      <td>OC</td>\n",
       "      <td>775</td>\n",
       "      <td>10000000</td>\n",
       "      <td>800</td>\n",
       "      <td>2770121</td>\n",
       "    </tr>\n",
       "    <tr>\n",
       "      <th>1</th>\n",
       "      <td>2</td>\n",
       "      <td>2019-04-12</td>\n",
       "      <td>ALL INDIA ANNA DRAVIDA MUNNETRA KAZHAGAM</td>\n",
       "      <td>*******5199</td>\n",
       "      <td>OC</td>\n",
       "      <td>3975</td>\n",
       "      <td>10000000</td>\n",
       "      <td>800</td>\n",
       "      <td>2770121</td>\n",
       "    </tr>\n",
       "    <tr>\n",
       "      <th>2</th>\n",
       "      <td>3</td>\n",
       "      <td>2019-04-12</td>\n",
       "      <td>ALL INDIA ANNA DRAVIDA MUNNETRA KAZHAGAM</td>\n",
       "      <td>*******5199</td>\n",
       "      <td>OC</td>\n",
       "      <td>3967</td>\n",
       "      <td>10000000</td>\n",
       "      <td>800</td>\n",
       "      <td>2770121</td>\n",
       "    </tr>\n",
       "    <tr>\n",
       "      <th>4</th>\n",
       "      <td>5</td>\n",
       "      <td>2019-04-12</td>\n",
       "      <td>ALL INDIA ANNA DRAVIDA MUNNETRA KAZHAGAM</td>\n",
       "      <td>*******5199</td>\n",
       "      <td>TL</td>\n",
       "      <td>126</td>\n",
       "      <td>1000000</td>\n",
       "      <td>800</td>\n",
       "      <td>2770121</td>\n",
       "    </tr>\n",
       "    <tr>\n",
       "      <th>5</th>\n",
       "      <td>6</td>\n",
       "      <td>2019-04-12</td>\n",
       "      <td>ALL INDIA ANNA DRAVIDA MUNNETRA KAZHAGAM</td>\n",
       "      <td>*******5199</td>\n",
       "      <td>TL</td>\n",
       "      <td>116</td>\n",
       "      <td>1000000</td>\n",
       "      <td>800</td>\n",
       "      <td>2770121</td>\n",
       "    </tr>\n",
       "    <tr>\n",
       "      <th>...</th>\n",
       "      <td>...</td>\n",
       "      <td>...</td>\n",
       "      <td>...</td>\n",
       "      <td>...</td>\n",
       "      <td>...</td>\n",
       "      <td>...</td>\n",
       "      <td>...</td>\n",
       "      <td>...</td>\n",
       "      <td>...</td>\n",
       "    </tr>\n",
       "    <tr>\n",
       "      <th>2801</th>\n",
       "      <td>2802</td>\n",
       "      <td>2019-04-25</td>\n",
       "      <td>BHARATIYA JANATA PARTY</td>\n",
       "      <td>*******8244</td>\n",
       "      <td>OL</td>\n",
       "      <td>103</td>\n",
       "      <td>100000</td>\n",
       "      <td>691</td>\n",
       "      <td>3300196</td>\n",
       "    </tr>\n",
       "    <tr>\n",
       "      <th>2804</th>\n",
       "      <td>2805</td>\n",
       "      <td>2019-04-25</td>\n",
       "      <td>BHARATIYA JANATA PARTY</td>\n",
       "      <td>*******8244</td>\n",
       "      <td>OL</td>\n",
       "      <td>168</td>\n",
       "      <td>100000</td>\n",
       "      <td>691</td>\n",
       "      <td>3300196</td>\n",
       "    </tr>\n",
       "    <tr>\n",
       "      <th>2853</th>\n",
       "      <td>2854</td>\n",
       "      <td>2019-04-25</td>\n",
       "      <td>SHIVSENA</td>\n",
       "      <td>*******4444</td>\n",
       "      <td>OL</td>\n",
       "      <td>2142</td>\n",
       "      <td>100000</td>\n",
       "      <td>300</td>\n",
       "      <td>6283527</td>\n",
       "    </tr>\n",
       "    <tr>\n",
       "      <th>2854</th>\n",
       "      <td>2855</td>\n",
       "      <td>2019-04-25</td>\n",
       "      <td>SHIVSENA</td>\n",
       "      <td>*******4444</td>\n",
       "      <td>OL</td>\n",
       "      <td>2144</td>\n",
       "      <td>100000</td>\n",
       "      <td>300</td>\n",
       "      <td>6283527</td>\n",
       "    </tr>\n",
       "    <tr>\n",
       "      <th>2855</th>\n",
       "      <td>2856</td>\n",
       "      <td>2019-04-25</td>\n",
       "      <td>SHIVSENA</td>\n",
       "      <td>*******4444</td>\n",
       "      <td>OL</td>\n",
       "      <td>2146</td>\n",
       "      <td>100000</td>\n",
       "      <td>300</td>\n",
       "      <td>6283527</td>\n",
       "    </tr>\n",
       "  </tbody>\n",
       "</table>\n",
       "<p>865 rows × 9 columns</p>\n",
       "</div>"
      ],
      "text/plain": [
       "      Sr No. enchash_date               Name of the Political Party  \\\n",
       "0          1   2019-04-12  ALL INDIA ANNA DRAVIDA MUNNETRA KAZHAGAM   \n",
       "1          2   2019-04-12  ALL INDIA ANNA DRAVIDA MUNNETRA KAZHAGAM   \n",
       "2          3   2019-04-12  ALL INDIA ANNA DRAVIDA MUNNETRA KAZHAGAM   \n",
       "4          5   2019-04-12  ALL INDIA ANNA DRAVIDA MUNNETRA KAZHAGAM   \n",
       "5          6   2019-04-12  ALL INDIA ANNA DRAVIDA MUNNETRA KAZHAGAM   \n",
       "...      ...          ...                                       ...   \n",
       "2801    2802   2019-04-25                    BHARATIYA JANATA PARTY   \n",
       "2804    2805   2019-04-25                    BHARATIYA JANATA PARTY   \n",
       "2853    2854   2019-04-25                                  SHIVSENA   \n",
       "2854    2855   2019-04-25                                  SHIVSENA   \n",
       "2855    2856   2019-04-25                                  SHIVSENA   \n",
       "\n",
       "     Account no. of\\nPolitical Party Prefix  bond_no  Denominations  \\\n",
       "0                        *******5199     OC      775       10000000   \n",
       "1                        *******5199     OC     3975       10000000   \n",
       "2                        *******5199     OC     3967       10000000   \n",
       "4                        *******5199     TL      126        1000000   \n",
       "5                        *******5199     TL      116        1000000   \n",
       "...                              ...    ...      ...            ...   \n",
       "2801                     *******8244     OL      103         100000   \n",
       "2804                     *******8244     OL      168         100000   \n",
       "2853                     *******4444     OL     2142         100000   \n",
       "2854                     *******4444     OL     2144         100000   \n",
       "2855                     *******4444     OL     2146         100000   \n",
       "\n",
       "      branch_code  Pay Teller  \n",
       "0             800     2770121  \n",
       "1             800     2770121  \n",
       "2             800     2770121  \n",
       "4             800     2770121  \n",
       "5             800     2770121  \n",
       "...           ...         ...  \n",
       "2801          691     3300196  \n",
       "2804          691     3300196  \n",
       "2853          300     6283527  \n",
       "2854          300     6283527  \n",
       "2855          300     6283527  \n",
       "\n",
       "[865 rows x 9 columns]"
      ]
     },
     "execution_count": 173,
     "metadata": {},
     "output_type": "execute_result"
    }
   ],
   "source": [
    "match_not_found_in_donor"
   ]
  },
  {
   "cell_type": "code",
   "execution_count": 174,
   "id": "525cc901-42d1-4b6a-9d60-11a48312d832",
   "metadata": {},
   "outputs": [
    {
     "data": {
      "text/plain": [
       "5345110000"
      ]
     },
     "execution_count": 174,
     "metadata": {},
     "output_type": "execute_result"
    }
   ],
   "source": [
    "match_not_found_in_donor['Denominations'].sum()"
   ]
  },
  {
   "cell_type": "code",
   "execution_count": 175,
   "id": "c1b0d390-7c00-4c6b-9005-b114ac00e8c4",
   "metadata": {},
   "outputs": [],
   "source": [
    "x=match_not_found_in_donor.groupby(['Name of the Political Party'])['Denominations'].sum()"
   ]
  },
  {
   "cell_type": "code",
   "execution_count": 176,
   "id": "9ec93fca-4d78-49e0-9fad-9ac753488914",
   "metadata": {},
   "outputs": [
    {
     "data": {
      "text/plain": [
       "Name of the Political Party\n",
       "ADYAKSHA SAMAJVADI PARTY                                           7700000\n",
       "ALL INDIA ANNA DRAVIDA MUNNETRA KAZHAGAM                          45400000\n",
       "ALL INDIA TRINAMOOL CONGRESS                                     130000000\n",
       "BHARAT RASHTRA SAMITHI                                           230500000\n",
       "BHARATIYA JANATA PARTY                                          4132000000\n",
       "BIHAR PRADESH JANTA DAL(UNITED)                                   20000000\n",
       "DRAVIDA MUNNETRA KAZHAGAM (DMK)                                   60000000\n",
       "PRESIDENT, ALL INDIA CONGRESS COMMITTEE                          548710000\n",
       "SHIVSENA                                                          40300000\n",
       "TELUGU DESAM PARTY                                                60000000\n",
       "YSR  CONGRESS PARTY  (YUVAJANA SRAMIKA RYTHU CONGRESS PARTY)      70500000\n",
       "Name: Denominations, dtype: int64"
      ]
     },
     "execution_count": 176,
     "metadata": {},
     "output_type": "execute_result"
    }
   ],
   "source": [
    "x"
   ]
  },
  {
   "cell_type": "code",
   "execution_count": 177,
   "id": "0d418ec6-0ecf-45d5-ae70-dc03b4ce14e7",
   "metadata": {},
   "outputs": [
    {
     "data": {
      "text/plain": [
       "Name of the Political Party\n",
       "BHARATIYA JANATA PARTY                                          4132000000\n",
       "PRESIDENT, ALL INDIA CONGRESS COMMITTEE                          548710000\n",
       "BHARAT RASHTRA SAMITHI                                           230500000\n",
       "ALL INDIA TRINAMOOL CONGRESS                                     130000000\n",
       "YSR  CONGRESS PARTY  (YUVAJANA SRAMIKA RYTHU CONGRESS PARTY)      70500000\n",
       "DRAVIDA MUNNETRA KAZHAGAM (DMK)                                   60000000\n",
       "TELUGU DESAM PARTY                                                60000000\n",
       "ALL INDIA ANNA DRAVIDA MUNNETRA KAZHAGAM                          45400000\n",
       "SHIVSENA                                                          40300000\n",
       "BIHAR PRADESH JANTA DAL(UNITED)                                   20000000\n",
       "ADYAKSHA SAMAJVADI PARTY                                           7700000\n",
       "Name: Denominations, dtype: int64"
      ]
     },
     "execution_count": 177,
     "metadata": {},
     "output_type": "execute_result"
    }
   ],
   "source": [
    "x.sort_values(ascending=False)"
   ]
  },
  {
   "cell_type": "code",
   "execution_count": 178,
   "id": "4115b23a-8821-4096-9e99-fb7aeee7b9c7",
   "metadata": {},
   "outputs": [
    {
     "data": {
      "text/plain": [
       "('FUTURE GAMING AND HOTEL SERVICES PR', 30000000)"
      ]
     },
     "execution_count": 178,
     "metadata": {},
     "output_type": "execute_result"
    }
   ],
   "source": [
    "#which person/company has bought highest amount of bond but havent clamied by any party?\n",
    "unclaimed_bonds = donors_data[donors_data['Status'] == 'Expired']\n",
    "\n",
    "#Grouping the data by 'Name of Purchaser' and sum the 'bond_amount'\n",
    "unclaimed_sum = unclaimed_bonds.groupby('Name of the Purchaser')['bond_amount'].sum()\n",
    "\n",
    "#Finding the Purchaser with the highest total amount of unclaimed bonds\n",
    "highest_unclaimed_buyer = unclaimed_sum.idxmax()\n",
    "highest_unclaimed_amount = unclaimed_sum.max()\n",
    "\n",
    "highest_unclaimed_buyer, highest_unclaimed_amount"
   ]
  },
  {
   "cell_type": "code",
   "execution_count": 179,
   "id": "4fb3a7b7-0cde-43ac-b58b-561e48e1a472",
   "metadata": {},
   "outputs": [
    {
     "name": "stdout",
     "output_type": "stream",
     "text": [
      "The amount with the highest number of bond purchases is 10000000 with 11671 purchases.\n"
     ]
    }
   ],
   "source": [
    "#for which amount highest no of bond purchased?\n",
    "\n",
    "# Grouping by purchase amount and count the number of purchases for each amount\n",
    "amount_counts = donors_data['bond_amount'].value_counts()\n",
    "\n",
    "# Finding the amount with the highest number of purchases\n",
    "max_purchased_amount = amount_counts.idxmax()\n",
    "max_purchases = amount_counts.max()\n",
    "\n",
    "print(f\"The amount with the highest number of bond purchases is {max_purchased_amount} with {max_purchases} purchases.\")"
   ]
  },
  {
   "cell_type": "code",
   "execution_count": 180,
   "id": "e9dfc9dd-209d-4b66-8ffd-23fcae355cac",
   "metadata": {},
   "outputs": [
    {
     "name": "stdout",
     "output_type": "stream",
     "text": [
      "The amount with the highest percentage of bond purchases is 10000000 with 61.85% of the total purchases.\n"
     ]
    }
   ],
   "source": [
    "#what if i want to identify percentage not the actual number.\n",
    "\n",
    "# Calculating the percentage of total purchases for each amount\n",
    "total_purchases = amount_counts.sum()\n",
    "amount_percentages = (amount_counts / total_purchases) * 100\n",
    "\n",
    "# Find the amount with the highest percentage of purchases\n",
    "max_purchased_amount = amount_percentages.idxmax()\n",
    "max_purchase_percentage = amount_percentages.max()\n",
    "\n",
    "print(f\"The amount with the highest percentage of bond purchases is {max_purchased_amount} with {max_purchase_percentage:.2f}% of the total purchases.\")"
   ]
  },
  {
   "cell_type": "code",
   "execution_count": 187,
   "id": "e2fd51ec-1d86-4183-97a3-de6a8a41663f",
   "metadata": {},
   "outputs": [
    {
     "name": "stdout",
     "output_type": "stream",
     "text": [
      "                          Name of the Political Party  Denominations\n",
      "0                                     AAM AADMI PARTY      654500000\n",
      "1                            ADYAKSHA SAMAJVADI PARTY      140500000\n",
      "2            ALL INDIA ANNA DRAVIDA MUNNETRA KAZHAGAM       60500000\n",
      "3                        ALL INDIA TRINAMOOL CONGRESS    16095314000\n",
      "4                              BHARAT RASHTRA SAMITHI    12147099000\n",
      "5                              BHARATIYA JANATA PARTY    60605111000\n",
      "6                     BIHAR PRADESH JANTA DAL(UNITED)      140000000\n",
      "7                                     BIJU JANATA DAL     7755000000\n",
      "8                     DRAVIDA MUNNETRA KAZHAGAM (DMK)     6390000000\n",
      "9                                   GOA FORWARD PARTY        3500000\n",
      "10              JAMMU AND KASHMIR NATIONAL CONFERENCE        5000000\n",
      "11                                     JANASENA PARTY      210000000\n",
      "12                             JANATA DAL ( SECULAR )      435000000\n",
      "13                             JHARKHAND MUKTI MORCHA      135000000\n",
      "14                      MAHARASHTRAWADI GOMNTAK PARTY        5500000\n",
      "15     NATIONALIST CONGRESS PARTY MAHARASHTRA PRADESH      310000000\n",
      "16            PRESIDENT, ALL INDIA CONGRESS COMMITTEE    14218655000\n",
      "17                                RASHTRIYA JANTA DAL      735000000\n",
      "18                                SHIROMANI AKALI DAL       72600000\n",
      "19                                           SHIVSENA     1593814000\n",
      "20                            SIKKIM DEMOCRATIC FRONT       55000000\n",
      "21                           SIKKIM KRANTIKARI MORCHA      365000000\n",
      "22                                 TELUGU DESAM PARTY     2188800000\n",
      "23  YSR  CONGRESS PARTY  (YUVAJANA SRAMIKA RYTHU C...     3370000000\n"
     ]
    }
   ],
   "source": [
    "total_bond_amount = receiver_data.groupby('Name of the Political Party')['Denominations'].sum().reset_index()\n",
    "\n",
    "print(total_bond_amount)"
   ]
  },
  {
   "cell_type": "code",
   "execution_count": 188,
   "id": "97bd6cf2-8b2f-4c9e-9dee-26e3eef11551",
   "metadata": {},
   "outputs": [
    {
     "name": "stdout",
     "output_type": "stream",
     "text": [
      "First bond purchased:\n",
      "Date: 2019-04-12 00:00:00\n",
      "Donor: A B C INDIA LIMITED\n",
      "\n",
      "Last bond purchased:\n",
      "Date: 2024-01-11 00:00:00\n",
      "Donor: ABHINANDANSTOCKBROKINGPVTLTD\n"
     ]
    }
   ],
   "source": [
    "#first and last bond purchased date\n",
    "donors_data['Purchase date'] = pd.to_datetime(donors_data['purchase_date'])\n",
    "\n",
    "# Find the first and last bond purchased date, along with the corresponding donor\n",
    "first_bond_purchased = donors_data.loc[donors_data['Purchase date'].idxmin()]\n",
    "last_bond_purchased = donors_data.loc[donors_data['Purchase date'].idxmax()]\n",
    "\n",
    "print(\"First bond purchased:\")\n",
    "print(f\"Date: {first_bond_purchased['purchase_date']}\")\n",
    "print(f\"Donor: {first_bond_purchased['Name of the Purchaser']}\")\n",
    "\n",
    "print(\"\\nLast bond purchased:\")\n",
    "print(f\"Date: {last_bond_purchased['purchase_date']}\")\n",
    "print(f\"Donor: {last_bond_purchased['Name of the Purchaser']}\")"
   ]
  },
  {
   "cell_type": "code",
   "execution_count": 189,
   "id": "42d0b937-6d75-41d4-ab81-d3f5b39a9560",
   "metadata": {},
   "outputs": [
    {
     "name": "stdout",
     "output_type": "stream",
     "text": [
      "First bond encashed:\n",
      "Party: ALL INDIA ANNA DRAVIDA MUNNETRA KAZHAGAM\n",
      "Date: 2019-04-12 00:00:00\n",
      "\n",
      "Last bond encashed:\n",
      "Party: BHARATIYA JANATA PARTY\n",
      "Date: 2024-01-24 00:00:00\n"
     ]
    }
   ],
   "source": [
    "#first and last bond reedemed date\n",
    "receiver_data['encash_date'] = pd.to_datetime(receiver_data['enchash_date'])\n",
    "\n",
    "# Find the first and last bond redeemed date, along with the corresponding political party\n",
    "first_bond_encashed = receiver_data.loc[receiver_data['encash_date'].idxmin()]\n",
    "last_bond_encashed = receiver_data.loc[receiver_data['encash_date'].idxmax()]\n",
    "\n",
    "print(\"First bond encashed:\")\n",
    "print(f\"Party: {first_bond_encashed['Name of the Political Party']}\")\n",
    "print(f\"Date: {first_bond_encashed['enchash_date']}\")\n",
    "\n",
    "print(\"\\nLast bond encashed:\")\n",
    "print(f\"Party: {last_bond_encashed['Name of the Political Party']}\")\n",
    "print(f\"Date: {last_bond_encashed['enchash_date']}\")"
   ]
  },
  {
   "cell_type": "code",
   "execution_count": 192,
   "id": "034f2b33-1f7a-47e6-988b-29a474c563e0",
   "metadata": {},
   "outputs": [
    {
     "name": "stdout",
     "output_type": "stream",
     "text": [
      "Year-wise Bond Purchases:\n",
      "   Journal Year  Status\n",
      "0          2019    3154\n",
      "1          2020     460\n",
      "2          2021    2647\n",
      "3          2022    5314\n",
      "4          2023    6399\n",
      "5          2024     897\n",
      "\n",
      "Year-wise Bond Claims:\n",
      "   Journal Year  Status\n",
      "0          2019    3103\n",
      "1          2020     459\n",
      "2          2021    2642\n",
      "3          2022    5300\n",
      "4          2023    6365\n",
      "5          2024     872\n"
     ]
    },
    {
     "name": "stderr",
     "output_type": "stream",
     "text": [
      "C:\\Users\\ASUS\\AppData\\Local\\Temp\\ipykernel_21624\\4133504020.py:13: SettingWithCopyWarning: \n",
      "A value is trying to be set on a copy of a slice from a DataFrame.\n",
      "Try using .loc[row_indexer,col_indexer] = value instead\n",
      "\n",
      "See the caveats in the documentation: https://pandas.pydata.org/pandas-docs/stable/user_guide/indexing.html#returning-a-view-versus-a-copy\n",
      "  claimed_bonds['Journal Year'] = claimed_bonds['Journal Date'].dt.year\n"
     ]
    }
   ],
   "source": [
    "donors_data['Journal Date'] = pd.to_datetime(donors_data['Journal Date'])\n",
    "\n",
    "# Calculate the year from the date\n",
    "donors_data['Journal Year'] = donors_data['Journal Date'].dt.year\n",
    "\n",
    "# Group the data by year and count the number of bonds\n",
    "purchase_counts = donors_data.groupby('Journal Year')['Status'].count().reset_index()\n",
    "\n",
    "# Filter the claimed bonds\n",
    "claimed_bonds = donors_data[donors_data['Status'] == 'Paid']\n",
    "\n",
    "# Calculate the year from the date of claimed bonds\n",
    "claimed_bonds['Journal Year'] = claimed_bonds['Journal Date'].dt.year\n",
    "\n",
    "# Group the claimed bonds by year and count the number of bonds\n",
    "claim_counts = claimed_bonds.groupby('Journal Year')['Status'].count().reset_index()\n",
    "\n",
    "print(\"Year-wise Bond Purchases:\")\n",
    "print(purchase_counts)\n",
    "print(\"\\nYear-wise Bond Claims:\")\n",
    "print(claim_counts)"
   ]
  }
 ],
 "metadata": {
  "kernelspec": {
   "display_name": "Python 3 (ipykernel)",
   "language": "python",
   "name": "python3"
  },
  "language_info": {
   "codemirror_mode": {
    "name": "ipython",
    "version": 3
   },
   "file_extension": ".py",
   "mimetype": "text/x-python",
   "name": "python",
   "nbconvert_exporter": "python",
   "pygments_lexer": "ipython3",
   "version": "3.11.7"
  }
 },
 "nbformat": 4,
 "nbformat_minor": 5
}
